{
 "cells": [
  {
   "attachments": {},
   "cell_type": "markdown",
   "metadata": {},
   "source": [
    "# 数据准备"
   ]
  },
  {
   "cell_type": "code",
   "execution_count": 1,
   "metadata": {
    "ExecuteTime": {
     "end_time": "2021-04-16T04:43:49.209438Z",
     "start_time": "2021-04-16T04:43:49.206368Z"
    }
   },
   "outputs": [],
   "source": [
    "import warnings\n",
    "warnings.filterwarnings('ignore')"
   ]
  },
  {
   "cell_type": "code",
   "execution_count": 2,
   "metadata": {
    "ExecuteTime": {
     "end_time": "2021-04-16T04:43:49.718392Z",
     "start_time": "2021-04-16T04:43:49.213710Z"
    }
   },
   "outputs": [],
   "source": [
    "%matplotlib inline\n",
    "\n",
    "from pathlib import Path\n",
    "import numpy as np\n",
    "import pandas as pd\n",
    "\n",
    "import matplotlib.pyplot as plt\n",
    "import seaborn as sns"
   ]
  },
  {
   "cell_type": "code",
   "execution_count": 3,
   "metadata": {
    "ExecuteTime": {
     "end_time": "2021-04-16T04:43:49.721292Z",
     "start_time": "2021-04-16T04:43:49.719291Z"
    }
   },
   "outputs": [],
   "source": [
    "sns.set_style('whitegrid')\n",
    "idx = pd.IndexSlice\n",
    "deciles = np.arange(.1, 1, .1).round(1)"
   ]
  },
  {
   "attachments": {},
   "cell_type": "markdown",
   "metadata": {},
   "source": [
    "## 加载数据"
   ]
  },
  {
   "cell_type": "code",
   "execution_count": 4,
   "metadata": {
    "ExecuteTime": {
     "end_time": "2021-04-16T04:43:49.735163Z",
     "start_time": "2021-04-16T04:43:49.722317Z"
    }
   },
   "outputs": [],
   "source": [
    "DATA_STORE = Path('..', 'data', 'assets_cn.h5')"
   ]
  },
  {
   "cell_type": "code",
   "execution_count": 5,
   "metadata": {
    "ExecuteTime": {
     "end_time": "2021-04-16T04:43:57.006315Z",
     "start_time": "2021-04-16T04:43:49.736203Z"
    }
   },
   "outputs": [],
   "source": [
    "with pd.HDFStore(DATA_STORE) as store:\n",
    "    data = (store['bao/prices']\n",
    "            .loc[idx[:, :],\n",
    "                 ['open', 'high', 'low', 'close', 'volume']]\n",
    "            .dropna()\n",
    "            .swaplevel()\n",
    "            .sort_index())\n",
    "        #     .rename(columns=lambda x: x.replace('adj_', '')))\n",
    "    metadata = store['cn_equities/stocks'].loc[:, ['code_name', 'mktcap', 'industry']]"
   ]
  },
  {
   "cell_type": "code",
   "execution_count": 6,
   "metadata": {
    "ExecuteTime": {
     "end_time": "2021-04-16T04:43:57.144354Z",
     "start_time": "2021-04-16T04:43:57.007191Z"
    }
   },
   "outputs": [
    {
     "name": "stdout",
     "output_type": "stream",
     "text": [
      "<class 'pandas.core.frame.DataFrame'>\n",
      "MultiIndex: 401535 entries, ('sh.600000', Timestamp('2017-07-03 00:00:00')) to ('sz.300999', Timestamp('2023-06-21 00:00:00'))\n",
      "Data columns (total 5 columns):\n",
      " #   Column  Non-Null Count   Dtype  \n",
      "---  ------  --------------   -----  \n",
      " 0   open    401535 non-null  float64\n",
      " 1   high    401535 non-null  float64\n",
      " 2   low     401535 non-null  float64\n",
      " 3   close   401535 non-null  float64\n",
      " 4   volume  401535 non-null  float64\n",
      "dtypes: float64(5)\n",
      "memory usage: 16.9+ MB\n"
     ]
    }
   ],
   "source": [
    "data.info(null_counts=True)"
   ]
  },
  {
   "cell_type": "code",
   "execution_count": 7,
   "metadata": {
    "ExecuteTime": {
     "end_time": "2021-04-16T04:43:57.152798Z",
     "start_time": "2021-04-16T04:43:57.145264Z"
    }
   },
   "outputs": [
    {
     "name": "stdout",
     "output_type": "stream",
     "text": [
      "<class 'pandas.core.frame.DataFrame'>\n",
      "Index: 300 entries, sh.600000 to sz.300999\n",
      "Data columns (total 4 columns):\n",
      " #   Column     Non-Null Count  Dtype  \n",
      "---  ------     --------------  -----  \n",
      " 0   code_name  300 non-null    object \n",
      " 1   mktcap     300 non-null    float64\n",
      " 2   industry   300 non-null    object \n",
      " 3   sector     300 non-null    int64  \n",
      "dtypes: float64(1), int64(1), object(2)\n",
      "memory usage: 11.7+ KB\n"
     ]
    }
   ],
   "source": [
    "metadata[\"sector\"] = pd.factorize(metadata.industry)[0]\n",
    "metadata.info()"
   ]
  },
  {
   "cell_type": "code",
   "execution_count": 8,
   "metadata": {},
   "outputs": [
    {
     "data": {
      "text/html": [
       "<div>\n",
       "<style scoped>\n",
       "    .dataframe tbody tr th:only-of-type {\n",
       "        vertical-align: middle;\n",
       "    }\n",
       "\n",
       "    .dataframe tbody tr th {\n",
       "        vertical-align: top;\n",
       "    }\n",
       "\n",
       "    .dataframe thead th {\n",
       "        text-align: right;\n",
       "    }\n",
       "</style>\n",
       "<table border=\"1\" class=\"dataframe\">\n",
       "  <thead>\n",
       "    <tr style=\"text-align: right;\">\n",
       "      <th></th>\n",
       "      <th>code_name</th>\n",
       "      <th>mktcap</th>\n",
       "      <th>industry</th>\n",
       "      <th>sector</th>\n",
       "    </tr>\n",
       "    <tr>\n",
       "      <th>code</th>\n",
       "      <th></th>\n",
       "      <th></th>\n",
       "      <th></th>\n",
       "      <th></th>\n",
       "    </tr>\n",
       "  </thead>\n",
       "  <tbody>\n",
       "    <tr>\n",
       "      <th>sh.600000</th>\n",
       "      <td>浦发银行</td>\n",
       "      <td>2.132478e+09</td>\n",
       "      <td>银行</td>\n",
       "      <td>0</td>\n",
       "    </tr>\n",
       "    <tr>\n",
       "      <th>sh.600009</th>\n",
       "      <td>上海机场</td>\n",
       "      <td>9.112023e+08</td>\n",
       "      <td>交通运输</td>\n",
       "      <td>1</td>\n",
       "    </tr>\n",
       "    <tr>\n",
       "      <th>sh.600010</th>\n",
       "      <td>包钢股份</td>\n",
       "      <td>5.638047e+08</td>\n",
       "      <td>钢铁</td>\n",
       "      <td>2</td>\n",
       "    </tr>\n",
       "    <tr>\n",
       "      <th>sh.600011</th>\n",
       "      <td>华能国际</td>\n",
       "      <td>9.721776e+08</td>\n",
       "      <td>公用事业</td>\n",
       "      <td>3</td>\n",
       "    </tr>\n",
       "    <tr>\n",
       "      <th>sh.600015</th>\n",
       "      <td>华夏银行</td>\n",
       "      <td>6.898468e+08</td>\n",
       "      <td>银行</td>\n",
       "      <td>0</td>\n",
       "    </tr>\n",
       "  </tbody>\n",
       "</table>\n",
       "</div>"
      ],
      "text/plain": [
       "          code_name        mktcap industry  sector\n",
       "code                                              \n",
       "sh.600000      浦发银行  2.132478e+09       银行       0\n",
       "sh.600009      上海机场  9.112023e+08     交通运输       1\n",
       "sh.600010      包钢股份  5.638047e+08       钢铁       2\n",
       "sh.600011      华能国际  9.721776e+08     公用事业       3\n",
       "sh.600015      华夏银行  6.898468e+08       银行       0"
      ]
     },
     "execution_count": 8,
     "metadata": {},
     "output_type": "execute_result"
    }
   ],
   "source": [
    "metadata.head()"
   ]
  },
  {
   "cell_type": "code",
   "execution_count": 16,
   "metadata": {},
   "outputs": [
    {
     "data": {
      "text/plain": [
       "<bound method DataFrame.info of           code_name        mktcap industry  sector\n",
       "code                                              \n",
       "sh.600000      浦发银行  2.132478e+09       银行       0\n",
       "sh.600009      上海机场  9.112023e+08     交通运输       1\n",
       "sh.600010      包钢股份  5.638047e+08       钢铁       2\n",
       "sh.600011      华能国际  9.721776e+08     公用事业       3\n",
       "sh.600015      华夏银行  6.898468e+08       银行       0\n",
       "...             ...           ...      ...     ...\n",
       "sz.300896       爱美客  3.901600e+08     医药生物      10\n",
       "sz.300919      中伟股份  1.680705e+08       化工       4\n",
       "sz.300957       贝泰妮  1.991140e+08       化工       4\n",
       "sz.300979      华利集团  6.783797e+07     纺织服装      25\n",
       "sz.300999       金龙鱼  2.183036e+08     农林牧渔      23\n",
       "\n",
       "[300 rows x 4 columns]>"
      ]
     },
     "execution_count": 16,
     "metadata": {},
     "output_type": "execute_result"
    }
   ],
   "source": [
    "metadata.info"
   ]
  },
  {
   "cell_type": "code",
   "execution_count": 9,
   "metadata": {
    "ExecuteTime": {
     "end_time": "2021-04-16T04:43:57.551366Z",
     "start_time": "2021-04-16T04:43:57.153657Z"
    }
   },
   "outputs": [],
   "source": [
    "data = data.join(metadata).dropna(subset=['sector'])"
   ]
  },
  {
   "cell_type": "code",
   "execution_count": 10,
   "metadata": {
    "ExecuteTime": {
     "end_time": "2021-04-16T04:43:57.667187Z",
     "start_time": "2021-04-16T04:43:57.552737Z"
    }
   },
   "outputs": [
    {
     "name": "stdout",
     "output_type": "stream",
     "text": [
      "<class 'pandas.core.frame.DataFrame'>\n",
      "MultiIndex: 401535 entries, ('sh.600000', Timestamp('2017-07-03 00:00:00')) to ('sz.300999', Timestamp('2023-06-21 00:00:00'))\n",
      "Data columns (total 9 columns):\n",
      " #   Column     Non-Null Count   Dtype  \n",
      "---  ------     --------------   -----  \n",
      " 0   open       401535 non-null  float64\n",
      " 1   high       401535 non-null  float64\n",
      " 2   low        401535 non-null  float64\n",
      " 3   close      401535 non-null  float64\n",
      " 4   volume     401535 non-null  float64\n",
      " 5   code_name  401535 non-null  object \n",
      " 6   mktcap     401535 non-null  float64\n",
      " 7   industry   401535 non-null  object \n",
      " 8   sector     401535 non-null  int64  \n",
      "dtypes: float64(6), int64(1), object(2)\n",
      "memory usage: 29.2+ MB\n"
     ]
    }
   ],
   "source": [
    "data.info(null_counts=True)"
   ]
  },
  {
   "cell_type": "code",
   "execution_count": 17,
   "metadata": {},
   "outputs": [
    {
     "data": {
      "text/html": [
       "<div>\n",
       "<style scoped>\n",
       "    .dataframe tbody tr th:only-of-type {\n",
       "        vertical-align: middle;\n",
       "    }\n",
       "\n",
       "    .dataframe tbody tr th {\n",
       "        vertical-align: top;\n",
       "    }\n",
       "\n",
       "    .dataframe thead th {\n",
       "        text-align: right;\n",
       "    }\n",
       "</style>\n",
       "<table border=\"1\" class=\"dataframe\">\n",
       "  <thead>\n",
       "    <tr style=\"text-align: right;\">\n",
       "      <th></th>\n",
       "      <th></th>\n",
       "      <th>open</th>\n",
       "      <th>high</th>\n",
       "      <th>low</th>\n",
       "      <th>close</th>\n",
       "      <th>volume</th>\n",
       "      <th>code_name</th>\n",
       "      <th>mktcap</th>\n",
       "      <th>industry</th>\n",
       "      <th>sector</th>\n",
       "    </tr>\n",
       "    <tr>\n",
       "      <th>code</th>\n",
       "      <th>date</th>\n",
       "      <th></th>\n",
       "      <th></th>\n",
       "      <th></th>\n",
       "      <th></th>\n",
       "      <th></th>\n",
       "      <th></th>\n",
       "      <th></th>\n",
       "      <th></th>\n",
       "      <th></th>\n",
       "    </tr>\n",
       "  </thead>\n",
       "  <tbody>\n",
       "    <tr>\n",
       "      <th rowspan=\"5\" valign=\"top\">sz.300999</th>\n",
       "      <th>2023-06-15</th>\n",
       "      <td>40.90</td>\n",
       "      <td>41.20</td>\n",
       "      <td>40.60</td>\n",
       "      <td>41.20</td>\n",
       "      <td>6555324.0</td>\n",
       "      <td>金龙鱼</td>\n",
       "      <td>2.183036e+08</td>\n",
       "      <td>农林牧渔</td>\n",
       "      <td>23</td>\n",
       "    </tr>\n",
       "    <tr>\n",
       "      <th>2023-06-16</th>\n",
       "      <td>41.20</td>\n",
       "      <td>41.46</td>\n",
       "      <td>41.02</td>\n",
       "      <td>41.34</td>\n",
       "      <td>5439501.0</td>\n",
       "      <td>金龙鱼</td>\n",
       "      <td>2.183036e+08</td>\n",
       "      <td>农林牧渔</td>\n",
       "      <td>23</td>\n",
       "    </tr>\n",
       "    <tr>\n",
       "      <th>2023-06-19</th>\n",
       "      <td>41.25</td>\n",
       "      <td>41.50</td>\n",
       "      <td>40.91</td>\n",
       "      <td>40.94</td>\n",
       "      <td>4766000.0</td>\n",
       "      <td>金龙鱼</td>\n",
       "      <td>2.183036e+08</td>\n",
       "      <td>农林牧渔</td>\n",
       "      <td>23</td>\n",
       "    </tr>\n",
       "    <tr>\n",
       "      <th>2023-06-20</th>\n",
       "      <td>41.22</td>\n",
       "      <td>41.22</td>\n",
       "      <td>40.68</td>\n",
       "      <td>40.79</td>\n",
       "      <td>3700416.0</td>\n",
       "      <td>金龙鱼</td>\n",
       "      <td>2.183036e+08</td>\n",
       "      <td>农林牧渔</td>\n",
       "      <td>23</td>\n",
       "    </tr>\n",
       "    <tr>\n",
       "      <th>2023-06-21</th>\n",
       "      <td>40.60</td>\n",
       "      <td>40.78</td>\n",
       "      <td>40.23</td>\n",
       "      <td>40.23</td>\n",
       "      <td>4111032.0</td>\n",
       "      <td>金龙鱼</td>\n",
       "      <td>2.183036e+08</td>\n",
       "      <td>农林牧渔</td>\n",
       "      <td>23</td>\n",
       "    </tr>\n",
       "  </tbody>\n",
       "</table>\n",
       "</div>"
      ],
      "text/plain": [
       "                       open   high    low  close     volume code_name  \\\n",
       "code      date                                                          \n",
       "sz.300999 2023-06-15  40.90  41.20  40.60  41.20  6555324.0       金龙鱼   \n",
       "          2023-06-16  41.20  41.46  41.02  41.34  5439501.0       金龙鱼   \n",
       "          2023-06-19  41.25  41.50  40.91  40.94  4766000.0       金龙鱼   \n",
       "          2023-06-20  41.22  41.22  40.68  40.79  3700416.0       金龙鱼   \n",
       "          2023-06-21  40.60  40.78  40.23  40.23  4111032.0       金龙鱼   \n",
       "\n",
       "                            mktcap industry  sector  \n",
       "code      date                                       \n",
       "sz.300999 2023-06-15  2.183036e+08     农林牧渔      23  \n",
       "          2023-06-16  2.183036e+08     农林牧渔      23  \n",
       "          2023-06-19  2.183036e+08     农林牧渔      23  \n",
       "          2023-06-20  2.183036e+08     农林牧渔      23  \n",
       "          2023-06-21  2.183036e+08     农林牧渔      23  "
      ]
     },
     "execution_count": 17,
     "metadata": {},
     "output_type": "execute_result"
    }
   ],
   "source": [
    "data.tail()"
   ]
  },
  {
   "cell_type": "code",
   "execution_count": 23,
   "metadata": {
    "ExecuteTime": {
     "end_time": "2021-04-16T04:43:57.731249Z",
     "start_time": "2021-04-16T04:43:57.668307Z"
    },
    "scrolled": true
   },
   "outputs": [
    {
     "name": "stdout",
     "output_type": "stream",
     "text": [
      "# 股票总数: 300 | # 时间数据: 1,453\n"
     ]
    }
   ],
   "source": [
    "print(f\"# 股票总数: {len(data.index.unique('code')):,.0f} | # 时间数据: {len(data.index.unique('date')):,.0f}\")"
   ]
  },
  {
   "attachments": {},
   "cell_type": "markdown",
   "metadata": {},
   "source": [
    "## 选择 500 只交易量最大的股票"
   ]
  },
  {
   "cell_type": "code",
   "execution_count": 19,
   "metadata": {
    "ExecuteTime": {
     "end_time": "2021-04-16T04:43:57.742092Z",
     "start_time": "2021-04-16T04:43:57.732173Z"
    }
   },
   "outputs": [],
   "source": [
    "dv = data.close.mul(data.volume)"
   ]
  },
  {
   "cell_type": "code",
   "execution_count": 25,
   "metadata": {},
   "outputs": [
    {
     "name": "stdout",
     "output_type": "stream",
     "text": [
      "# 股票总数: 300 | # 时间数据: 1,453\n"
     ]
    }
   ],
   "source": [
    "print(f\"# 股票总数: {len(dv.index.unique('code')):,.0f} | # 时间数据: {len(dv.index.unique('date')):,.0f}\")"
   ]
  },
  {
   "cell_type": "code",
   "execution_count": 50,
   "metadata": {
    "ExecuteTime": {
     "end_time": "2021-04-16T04:44:00.453581Z",
     "start_time": "2021-04-16T04:43:57.743088Z"
    }
   },
   "outputs": [],
   "source": [
    "top500 = (dv.groupby(level='date')\n",
    "          .rank(ascending=False)\n",
    "          .unstack('code')\n",
    "          .mean())"
   ]
  },
  {
   "cell_type": "code",
   "execution_count": 52,
   "metadata": {},
   "outputs": [
    {
     "data": {
      "text/plain": [
       "code\n",
       "sh.600000    165.322092\n",
       "sh.600009    111.201996\n",
       "sh.600010    129.165864\n",
       "sh.600011    187.570544\n",
       "sh.600015    220.423950\n",
       "                ...    \n",
       "sz.300896     98.225416\n",
       "sz.300919    208.046281\n",
       "sz.300957    186.577982\n",
       "sz.300979    271.921756\n",
       "sz.300999    132.030581\n",
       "Length: 300, dtype: float64"
      ]
     },
     "execution_count": 52,
     "metadata": {},
     "output_type": "execute_result"
    }
   ],
   "source": [
    "top500"
   ]
  },
  {
   "attachments": {},
   "cell_type": "markdown",
   "metadata": {},
   "source": [
    "### 可视化 200 只最具流动性的股票"
   ]
  },
  {
   "cell_type": "code",
   "execution_count": 53,
   "metadata": {
    "ExecuteTime": {
     "end_time": "2021-04-16T04:44:03.749823Z",
     "start_time": "2021-04-16T04:44:00.454390Z"
    }
   },
   "outputs": [
    {
     "data": {
      "image/png": "[encoded data removed]",
      "text/plain": [
       "<Figure size 1440x720 with 4 Axes>"
      ]
     },
     "metadata": {},
     "output_type": "display_data"
    }
   ],
   "source": [
    "top200 = (data.close\n",
    "          .mul(data.volume)\n",
    "          .unstack('code')\n",
    "          .mean()\n",
    "          .div(1e6)\n",
    "          .nlargest(200))\n",
    "cutoffs = [0, 50, 100, 150, 200]\n",
    "fig, axes = plt.subplots(ncols=4, figsize=(20, 10), sharex=True)\n",
    "axes = axes.flatten()\n",
    "\n",
    "for i, cutoff in enumerate(cutoffs[1:], 1):\n",
    "    top200.iloc[cutoffs[i-1]:cutoffs[i]\n",
    "                ].sort_values().plot.barh(logx=True, ax=axes[i-1])\n",
    "fig.tight_layout()"
   ]
  },
  {
   "cell_type": "code",
   "execution_count": 59,
   "metadata": {
    "ExecuteTime": {
     "end_time": "2021-04-16T04:44:03.780671Z",
     "start_time": "2021-04-16T04:44:03.750706Z"
    }
   },
   "outputs": [],
   "source": [
    "#to_drop = data.index.unique('code').difference(top500.index)"
   ]
  },
  {
   "cell_type": "code",
   "execution_count": 60,
   "metadata": {
    "ExecuteTime": {
     "end_time": "2021-04-16T04:44:03.783912Z",
     "start_time": "2021-04-16T04:44:03.781548Z"
    }
   },
   "outputs": [
    {
     "data": {
      "text/plain": [
       "250"
      ]
     },
     "execution_count": 60,
     "metadata": {},
     "output_type": "execute_result"
    }
   ],
   "source": [
    "#len(to_drop)"
   ]
  },
  {
   "cell_type": "code",
   "execution_count": 61,
   "metadata": {
    "ExecuteTime": {
     "end_time": "2021-04-16T04:44:08.989478Z",
     "start_time": "2021-04-16T04:44:03.785057Z"
    }
   },
   "outputs": [],
   "source": [
    "#data = data.drop(to_drop, level='code')"
   ]
  },
  {
   "cell_type": "code",
   "execution_count": 54,
   "metadata": {
    "ExecuteTime": {
     "end_time": "2021-04-16T04:44:09.022941Z",
     "start_time": "2021-04-16T04:44:08.990382Z"
    }
   },
   "outputs": [
    {
     "name": "stdout",
     "output_type": "stream",
     "text": [
      "<class 'pandas.core.frame.DataFrame'>\n",
      "MultiIndex: 401535 entries, ('sh.600000', Timestamp('2017-07-03 00:00:00')) to ('sz.300999', Timestamp('2023-06-21 00:00:00'))\n",
      "Data columns (total 9 columns):\n",
      " #   Column     Non-Null Count   Dtype  \n",
      "---  ------     --------------   -----  \n",
      " 0   open       401535 non-null  float64\n",
      " 1   high       401535 non-null  float64\n",
      " 2   low        401535 non-null  float64\n",
      " 3   close      401535 non-null  float64\n",
      " 4   volume     401535 non-null  float64\n",
      " 5   code_name  401535 non-null  object \n",
      " 6   mktcap     401535 non-null  float64\n",
      " 7   industry   401535 non-null  object \n",
      " 8   sector     401535 non-null  int64  \n",
      "dtypes: float64(6), int64(1), object(2)\n",
      "memory usage: 29.2+ MB\n"
     ]
    }
   ],
   "source": [
    "data.info(null_counts=True)"
   ]
  },
  {
   "cell_type": "code",
   "execution_count": 55,
   "metadata": {
    "ExecuteTime": {
     "end_time": "2021-04-16T04:44:09.045563Z",
     "start_time": "2021-04-16T04:44:09.023994Z"
    }
   },
   "outputs": [
    {
     "name": "stdout",
     "output_type": "stream",
     "text": [
      "# 股票数: 300 | # 数据长度: 1,453\n"
     ]
    }
   ],
   "source": [
    "print(f\"# 股票数: {len(data.index.unique('code')):,.0f} | # 数据长度: {len(data.index.unique('date')):,.0f}\")"
   ]
  },
  {
   "attachments": {},
   "cell_type": "markdown",
   "metadata": {},
   "source": [
    "### 根据每日回报删除异常值观察结果"
   ]
  },
  {
   "cell_type": "code",
   "execution_count": 56,
   "metadata": {
    "ExecuteTime": {
     "end_time": "2021-04-16T04:44:09.228707Z",
     "start_time": "2021-04-16T04:44:09.046832Z"
    }
   },
   "outputs": [
    {
     "name": "stdout",
     "output_type": "stream",
     "text": [
      "Dropped 301\n"
     ]
    }
   ],
   "source": [
    "before = len(data)\n",
    "data['ret'] = data.groupby('code').close.pct_change()\n",
    "data = data[data.ret.between(-1, 1)].drop('ret', axis=1)\n",
    "print(f'Dropped {before-len(data):,.0f}')"
   ]
  },
  {
   "cell_type": "code",
   "execution_count": 57,
   "metadata": {
    "ExecuteTime": {
     "end_time": "2021-04-16T04:44:09.247556Z",
     "start_time": "2021-04-16T04:44:09.229607Z"
    }
   },
   "outputs": [
    {
     "name": "stdout",
     "output_type": "stream",
     "text": [
      "# 股票数: 300 | # 数据长度: 1,452\n"
     ]
    }
   ],
   "source": [
    "tickers = data.index.unique('code')\n",
    "print(f\"# 股票数: {len(tickers):,.0f} | # 数据长度: {len(data.index.unique('date')):,.0f}\")"
   ]
  },
  {
   "attachments": {},
   "cell_type": "markdown",
   "metadata": {},
   "source": [
    "### 用于说明的示例价格数据"
   ]
  },
  {
   "cell_type": "code",
   "execution_count": 58,
   "metadata": {},
   "outputs": [
    {
     "data": {
      "text/html": [
       "<div>\n",
       "<style scoped>\n",
       "    .dataframe tbody tr th:only-of-type {\n",
       "        vertical-align: middle;\n",
       "    }\n",
       "\n",
       "    .dataframe tbody tr th {\n",
       "        vertical-align: top;\n",
       "    }\n",
       "\n",
       "    .dataframe thead th {\n",
       "        text-align: right;\n",
       "    }\n",
       "</style>\n",
       "<table border=\"1\" class=\"dataframe\">\n",
       "  <thead>\n",
       "    <tr style=\"text-align: right;\">\n",
       "      <th></th>\n",
       "      <th></th>\n",
       "      <th>open</th>\n",
       "      <th>high</th>\n",
       "      <th>low</th>\n",
       "      <th>close</th>\n",
       "      <th>volume</th>\n",
       "      <th>code_name</th>\n",
       "      <th>mktcap</th>\n",
       "      <th>industry</th>\n",
       "      <th>sector</th>\n",
       "    </tr>\n",
       "    <tr>\n",
       "      <th>code</th>\n",
       "      <th>date</th>\n",
       "      <th></th>\n",
       "      <th></th>\n",
       "      <th></th>\n",
       "      <th></th>\n",
       "      <th></th>\n",
       "      <th></th>\n",
       "      <th></th>\n",
       "      <th></th>\n",
       "      <th></th>\n",
       "    </tr>\n",
       "  </thead>\n",
       "  <tbody>\n",
       "    <tr>\n",
       "      <th rowspan=\"5\" valign=\"top\">sh.600000</th>\n",
       "      <th>2017-07-04</th>\n",
       "      <td>12.55</td>\n",
       "      <td>12.58</td>\n",
       "      <td>12.41</td>\n",
       "      <td>12.55</td>\n",
       "      <td>36659128.0</td>\n",
       "      <td>浦发银行</td>\n",
       "      <td>2.132478e+09</td>\n",
       "      <td>银行</td>\n",
       "      <td>0</td>\n",
       "    </tr>\n",
       "    <tr>\n",
       "      <th>2017-07-05</th>\n",
       "      <td>12.50</td>\n",
       "      <td>12.65</td>\n",
       "      <td>12.47</td>\n",
       "      <td>12.62</td>\n",
       "      <td>26470507.0</td>\n",
       "      <td>浦发银行</td>\n",
       "      <td>2.132478e+09</td>\n",
       "      <td>银行</td>\n",
       "      <td>0</td>\n",
       "    </tr>\n",
       "    <tr>\n",
       "      <th>2017-07-06</th>\n",
       "      <td>12.62</td>\n",
       "      <td>12.72</td>\n",
       "      <td>12.51</td>\n",
       "      <td>12.66</td>\n",
       "      <td>37414241.0</td>\n",
       "      <td>浦发银行</td>\n",
       "      <td>2.132478e+09</td>\n",
       "      <td>银行</td>\n",
       "      <td>0</td>\n",
       "    </tr>\n",
       "    <tr>\n",
       "      <th>2017-07-07</th>\n",
       "      <td>12.62</td>\n",
       "      <td>12.69</td>\n",
       "      <td>12.55</td>\n",
       "      <td>12.60</td>\n",
       "      <td>24667294.0</td>\n",
       "      <td>浦发银行</td>\n",
       "      <td>2.132478e+09</td>\n",
       "      <td>银行</td>\n",
       "      <td>0</td>\n",
       "    </tr>\n",
       "    <tr>\n",
       "      <th>2017-07-10</th>\n",
       "      <td>12.59</td>\n",
       "      <td>12.64</td>\n",
       "      <td>12.52</td>\n",
       "      <td>12.53</td>\n",
       "      <td>26411530.0</td>\n",
       "      <td>浦发银行</td>\n",
       "      <td>2.132478e+09</td>\n",
       "      <td>银行</td>\n",
       "      <td>0</td>\n",
       "    </tr>\n",
       "  </tbody>\n",
       "</table>\n",
       "</div>"
      ],
      "text/plain": [
       "                       open   high    low  close      volume code_name  \\\n",
       "code      date                                                           \n",
       "sh.600000 2017-07-04  12.55  12.58  12.41  12.55  36659128.0      浦发银行   \n",
       "          2017-07-05  12.50  12.65  12.47  12.62  26470507.0      浦发银行   \n",
       "          2017-07-06  12.62  12.72  12.51  12.66  37414241.0      浦发银行   \n",
       "          2017-07-07  12.62  12.69  12.55  12.60  24667294.0      浦发银行   \n",
       "          2017-07-10  12.59  12.64  12.52  12.53  26411530.0      浦发银行   \n",
       "\n",
       "                            mktcap industry  sector  \n",
       "code      date                                       \n",
       "sh.600000 2017-07-04  2.132478e+09       银行       0  \n",
       "          2017-07-05  2.132478e+09       银行       0  \n",
       "          2017-07-06  2.132478e+09       银行       0  \n",
       "          2017-07-07  2.132478e+09       银行       0  \n",
       "          2017-07-10  2.132478e+09       银行       0  "
      ]
     },
     "execution_count": 58,
     "metadata": {},
     "output_type": "execute_result"
    }
   ],
   "source": [
    "data.head()"
   ]
  },
  {
   "cell_type": "code",
   "execution_count": 59,
   "metadata": {
    "ExecuteTime": {
     "end_time": "2021-04-16T04:44:09.260665Z",
     "start_time": "2021-04-16T04:44:09.248436Z"
    }
   },
   "outputs": [],
   "source": [
    "ticker = 'sh.600030'\n",
    "# alternative\n",
    "# ticker = np.random.choice(tickers)\n",
    "price_sample = data.loc[idx[ticker, :], :].reset_index('code', drop=True)"
   ]
  },
  {
   "cell_type": "code",
   "execution_count": 60,
   "metadata": {
    "ExecuteTime": {
     "end_time": "2021-04-16T04:44:09.268597Z",
     "start_time": "2021-04-16T04:44:09.261775Z"
    }
   },
   "outputs": [
    {
     "name": "stdout",
     "output_type": "stream",
     "text": [
      "<class 'pandas.core.frame.DataFrame'>\n",
      "DatetimeIndex: 1452 entries, 2017-07-04 to 2023-06-21\n",
      "Data columns (total 9 columns):\n",
      " #   Column     Non-Null Count  Dtype  \n",
      "---  ------     --------------  -----  \n",
      " 0   open       1452 non-null   float64\n",
      " 1   high       1452 non-null   float64\n",
      " 2   low        1452 non-null   float64\n",
      " 3   close      1452 non-null   float64\n",
      " 4   volume     1452 non-null   float64\n",
      " 5   code_name  1452 non-null   object \n",
      " 6   mktcap     1452 non-null   float64\n",
      " 7   industry   1452 non-null   object \n",
      " 8   sector     1452 non-null   int64  \n",
      "dtypes: float64(6), int64(1), object(2)\n",
      "memory usage: 113.4+ KB\n"
     ]
    }
   ],
   "source": [
    "price_sample.info()"
   ]
  },
  {
   "cell_type": "code",
   "execution_count": 61,
   "metadata": {
    "ExecuteTime": {
     "end_time": "2021-04-16T04:44:09.278269Z",
     "start_time": "2021-04-16T04:44:09.270335Z"
    }
   },
   "outputs": [],
   "source": [
    "price_sample.to_hdf('cn_data.h5', 'data/sample')"
   ]
  },
  {
   "attachments": {},
   "cell_type": "markdown",
   "metadata": {},
   "source": [
    "## 计算回报"
   ]
  },
  {
   "attachments": {},
   "cell_type": "markdown",
   "metadata": {},
   "source": [
    "按股票进行分组"
   ]
  },
  {
   "cell_type": "code",
   "execution_count": 62,
   "metadata": {
    "ExecuteTime": {
     "end_time": "2021-04-16T04:44:09.306943Z",
     "start_time": "2021-04-16T04:44:09.280490Z"
    }
   },
   "outputs": [],
   "source": [
    "by_ticker = data.groupby(level='code')"
   ]
  },
  {
   "attachments": {},
   "cell_type": "markdown",
   "metadata": {},
   "source": [
    "### 历史回报"
   ]
  },
  {
   "cell_type": "code",
   "execution_count": 63,
   "metadata": {
    "ExecuteTime": {
     "end_time": "2021-04-16T04:44:09.315466Z",
     "start_time": "2021-04-16T04:44:09.310205Z"
    }
   },
   "outputs": [],
   "source": [
    "T = [1, 2, 3, 4, 5, 10, 21, 42, 63, 126, 252]"
   ]
  },
  {
   "cell_type": "code",
   "execution_count": 64,
   "metadata": {
    "ExecuteTime": {
     "end_time": "2021-04-16T04:44:09.777872Z",
     "start_time": "2021-04-16T04:44:09.319201Z"
    }
   },
   "outputs": [],
   "source": [
    "for t in T:\n",
    "    data[f'ret_{t:02}'] = by_ticker.close.pct_change(t)"
   ]
  },
  {
   "attachments": {},
   "cell_type": "markdown",
   "metadata": {},
   "source": [
    "### 远期回报"
   ]
  },
  {
   "cell_type": "code",
   "execution_count": 65,
   "metadata": {
    "ExecuteTime": {
     "end_time": "2021-04-16T04:44:09.908413Z",
     "start_time": "2021-04-16T04:44:09.778722Z"
    }
   },
   "outputs": [],
   "source": [
    "data['ret_fwd'] = by_ticker.ret_01.shift(-1)\n",
    "data = data.dropna(subset=['ret_fwd'])"
   ]
  },
  {
   "attachments": {},
   "cell_type": "markdown",
   "metadata": {},
   "source": [
    "## 保留结果"
   ]
  },
  {
   "cell_type": "code",
   "execution_count": 66,
   "metadata": {
    "ExecuteTime": {
     "end_time": "2021-04-16T04:44:09.959921Z",
     "start_time": "2021-04-16T04:44:09.909278Z"
    }
   },
   "outputs": [
    {
     "name": "stdout",
     "output_type": "stream",
     "text": [
      "<class 'pandas.core.frame.DataFrame'>\n",
      "MultiIndex: 400934 entries, ('sh.600000', Timestamp('2017-07-04 00:00:00')) to ('sz.300999', Timestamp('2023-06-20 00:00:00'))\n",
      "Data columns (total 21 columns):\n",
      " #   Column     Non-Null Count   Dtype  \n",
      "---  ------     --------------   -----  \n",
      " 0   open       400934 non-null  float64\n",
      " 1   high       400934 non-null  float64\n",
      " 2   low        400934 non-null  float64\n",
      " 3   close      400934 non-null  float64\n",
      " 4   volume     400934 non-null  float64\n",
      " 5   code_name  400934 non-null  object \n",
      " 6   mktcap     400934 non-null  float64\n",
      " 7   industry   400934 non-null  object \n",
      " 8   sector     400934 non-null  int64  \n",
      " 9   ret_01     400634 non-null  float64\n",
      " 10  ret_02     400334 non-null  float64\n",
      " 11  ret_03     400034 non-null  float64\n",
      " 12  ret_04     399734 non-null  float64\n",
      " 13  ret_05     399434 non-null  float64\n",
      " 14  ret_10     397934 non-null  float64\n",
      " 15  ret_21     394634 non-null  float64\n",
      " 16  ret_42     388334 non-null  float64\n",
      " 17  ret_63     382034 non-null  float64\n",
      " 18  ret_126    363134 non-null  float64\n",
      " 19  ret_252    325334 non-null  float64\n",
      " 20  ret_fwd    400934 non-null  float64\n",
      "dtypes: float64(18), int64(1), object(2)\n",
      "memory usage: 65.8+ MB\n"
     ]
    }
   ],
   "source": [
    "data.info(null_counts=True)"
   ]
  },
  {
   "cell_type": "code",
   "execution_count": 78,
   "metadata": {
    "ExecuteTime": {
     "end_time": "2021-04-16T04:44:10.119416Z",
     "start_time": "2021-04-16T04:44:09.960904Z"
    }
   },
   "outputs": [],
   "source": [
    "data.to_hdf('cn_data.h5', 'data/top50')"
   ]
  }
 ],
 "metadata": {
  "kernelspec": {
   "display_name": "Python 3 (ipykernel)",
   "language": "python",
   "name": "python3"
  },
  "language_info": {
   "codemirror_mode": {
    "name": "ipython",
    "version": 3
   },
   "file_extension": ".py",
   "mimetype": "text/x-python",
   "name": "python",
   "nbconvert_exporter": "python",
   "pygments_lexer": "ipython3",
   "version": "3.8.13"
  },
  "toc": {
   "base_numbering": 1,
   "nav_menu": {},
   "number_sections": true,
   "sideBar": true,
   "skip_h1_title": true,
   "title_cell": "Table of Contents",
   "title_sidebar": "Contents",
   "toc_cell": false,
   "toc_position": {},
   "toc_section_display": true,
   "toc_window_display": true
  }
 },
 "nbformat": 4,
 "nbformat_minor": 4
}
