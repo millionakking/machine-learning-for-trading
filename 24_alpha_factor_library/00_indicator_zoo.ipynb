{
 "cells": [
  {
   "attachments": {},
   "cell_type": "markdown",
   "metadata": {},
   "source": [
    "# 指标动物园"
   ]
  },
  {
   "attachments": {},
   "cell_type": "markdown",
   "metadata": {},
   "source": [
    "来源：\n",
    "\n",
    "Green, Jeremiah 和 Hand，John R. M. 和 Zhang, Fr​​ank，[提供有关美国平均月度股票回报率的独立信息的特征](https://papers.ssrn.com/sol3/papers.cfm?abstract_id=2262374)， 《金融研究评论》，第 30 卷，第 12 期，2017 年 12 月，第 4389–4436 页"
   ]
  },
  {
   "attachments": {},
   "cell_type": "markdown",
   "metadata": {},
   "source": [
    "John H. Cochrane (2011) 在 2011 年美国金融协会主席演讲中向研究人员提出挑战，要求他们确定能够提供有关美国股票平均回报率的独立信息的公司特征。\n",
    "\n",
    "科克伦提出了他的挑战，因为自 1970 年以来，数百个特征被视为“名副其实的动物园”，这些特征在异常文献中被视为横截面回报的统计显着预测因子。"
   ]
  },
  {
   "attachments": {},
   "cell_type": "markdown",
   "metadata": {},
   "source": [
    "|缩写词 |作者 |日期、日记 |基于特征的异常变量的定义|\n",
    "|------------|-------------------------------------|---------------|-----------------------------------------------------------------------------------------------------------------------------------------------------------------------------------------------------------------------------------------------------------------------------------------|\n",
    "| acc        | Sloan                               | 1996, TAR     | 不计非经常性项目前的年收入 (ib) 减去经营现金流量 (oancf) 除以平均总资产 (at)；如果 oancf 缺失，则设置为 act 中的更改 - che 中的更改 - lct++ 中的更改 dlc++ 中的更改 txp-dp 中的更改                                                 |\n",
    "| aeavol     | Lerman, Livnat, and Mendenhall      | 2008, WP      | 财报公布前后 3 天的日均交易量（vol）减去财报公布前 2 周的 1 个月日均交易量除以 1 个月日均交易量。 Compustat 季度收益公布日 (rdq)                         |\n",
    "| age        | Jiang, Lee, and Zhang               | 2005, RAS     | 自首次 Compustat 覆盖以来的年数 |\n",
    "| agr        | Cooper, Gulen, and Schill           | 2008, JF      | 总资产年度百分比变化（at）|\n",
    "| baspread   | Amihud and Mendelson                | 1989, JF      | 每日买卖价差的月平均值除以每日价差平均值 |\n",
    "| beta       | Fama and MacBeth                    | 1973, JPE     | 根据截至 tt-1 月的 3 年的每周收益和等权市场收益估计的市场贝塔值，至少有 52 周的收益 |                                             \n",
    "| bm         | Rosenberg, Reid, and Lanstein       | 1985, JPM     | 股权账面价值 (ceq) 除以财年末市值|\n",
    "| bm_ia      | Asness, Porter, and Stevens         | 2000, WP      |行业调整账面市值比|\n",
    "| cash       | Palazzo                             | 2012, JFE     | 现金及现金等价物除以平均总资产|\n",
    "| cashdebt   | Ou and Penman                       | 1989, JAE     | 折旧和非经常性项目之前的收益 (ib++dp) 除以平均值。负债总额（升）|\n",
    "| cashpr     | Chandrashekar and Rao               | 2009, WP      | 财政年末市值加上长期债务 (dltt) 减去总资产 (at) 除以现金及等价物 (che)|\n",
    "| cfp        | Desai, Rajgopal, and Venkatachalam  | 2004, TAR     | 经营现金流量除以财年末市值|\n",
    "| cfp_ia     | Asness, Porter and Stevens          | 2000, WP      | 行业调整后的cfp|\n",
    "| chatoia    | Soliman                             | 2008, TAR     | 两位数 SIC - 财政年度销售额（销售额）均值调整后的变化除以平均总资产（at）|\n",
    "| chcsho     | Pontiff and Woodgate                | 2008, JF      | 已发行股票的年度百分比变化 (csho)|\n",
    "| chempia    | Asness, Porter, and Stevens         | 1994, WP      | 行业调整后的员工人数变化|\n",
    "| chfeps     | Hawkins, Chamberlin, and Daniel     | 1984, FAJ     | I/B/E/S 摘要文件中会计期结束日期前一个月的平均分析师预测减去使用年度盈利预测对上一会计期的相同平均预测|\n",
    "| chinv      | Thomas and Zhang                    | 2002, RAS     | 库存变化 (inv) 按平均总资产 (at) 计算|\n",
    "| chmom      | Gettleman and Marks                 | 2006, WP      | tt-6 至 tt-1 月份的累积回报减去 tt-12 至 tt-7 月份的累积回报|\n",
    "| chpmia     | Soliman                             | 2008, TAR     | 2 位数 SIC - 财政年度非特殊项目前收入平均调整变化 (ib) 除以销售额（销售）|\n",
    "| chtx       | Thomas and Zhang                    | 2011, JAR     | 总税收 (txtq) 从quartertt-4 到 tt 的百分比变化|\n",
    "| cinvest    | Titman, Wei, and Xie                | 2004, JFQA    | 一季度净 PP&E (ppentq) 的变化除以销售额 (saleq) - 该变量前 3 个季度的平均值；如果 saleq== 0，则缩放 0.01\n",
    "| convind    | Valta                               | 2016, JFQA    | 如果公司有可转换债务，则该指标等于 1|\n",
    "| currat     | Ou and Penman                       | 1989, JAE     | 流动资产/流动负债|\n",
    "| depr       | Holthausen and Larcker              | 1992, JAE     | 折旧除以 PP&E|\n",
    "| disp       | Diether, Malloy, and Scherbina      | 2002, JF      | 财务期结束日期前一个月分析师预测的标准差除以平均预测的绝对值；如果 Meanest== 0，则标量设置为 1。来自 I/B/E/S 摘要文件的预测数据|\n",
    "| divi       | Michaely, Thaler, and Womack        | 1995, JF      | 如果公司支付股息但上一年没有支付，则指标变量等于 1|\n",
    "| dolvol     | Chordia, Subrahmanyam, and Anshuman | 2001, JFE     | tt-2 月份交易量乘以每股价格的自然对数 |\n",
    "| dy         | Litzenberger and Ramaswamy          | 1982, JF      | 总股息 (dvt) 除以财政年度末的市值|\n",
    "| ear        | Kishore et al.                      | 2008, WP      | 收益公布前后三天的每日回报总和。 Compustat 季度文件 (rdq) 的收益公告|\n",
    "| egr        | Richardson et al.                   | 2005, JAE     | 权益账面价值的年度百分比变化 (ceq)|\n",
    "| ep         | Basu                                | 1977, JF      |不计非经常性项目前的年收入 (ib) 除以财年末市值|\n",
    "| fgr5yr     | Bauman and Dowen                    | 1988, FAJ     | 最近可用的分析师预测 5 年增长|\n",
    "| gma        | Novy-Marx                           | 2013, JFE     | 收入 (revt) 减去销售成本 (cogs) 除以滞后总资产 (at)|\n",
    "| grCAPX     | Anderson and Garcia-Feijoo          | 2006, JF      | 从yeartt-2到yeart tt的资本支出百分比变化|\n",
    "| grltnoa    | Fairfield, Whisenant, and Yohn      | 2003, TAR     | 长期净经营资产的增长|\n",
    "| herf       | Hou and Robinson                    | 2006, JF      | 2 位数的 SIC - 财政年度销售集中度（各公司行业销售额的平方百分比之和）。|\n",
    "| hire       | Bazdresch, Belo, and Lin            | 2014, JPE     | 员工人数变化百分比 (emp)|\n",
    "| idiovol    | Ali, Hwang, and Trombley            | 2003, JFE     | 月末之前 3 年每周等权重市场回报率的周回报率残差的标准差|\n",
    "| ill        | Amihud                              | 2002, JFM     | 每日平均值（绝对回报/美元交易量）。 |\n",
    "| indmom     | Moskowitz and Grinblatt             | 1999, JF      | 等加权平均行业 12 个月回报率|\n",
    "| invest     | Chen and Zhang                      | 2010, JF      | 财产、厂房和设备总额的年度变化 (ppegt) ++ 库存的年度变化 (invt) 均按滞后总资产 (at) 进行调整|\n",
    "| IPO        | Loughran and Ritter                 | 1995, JF      | 如果第一年在 CRSP 月度库存文件上可用，则指示变量等于 1|\n",
    "| lev        | Bhandari                            | 1988, JF      | 总负债（lt）除以财年末市值|\n",
    "| lgr        | Richardson et al.                   | 2005, JAE     | 总负债的年度百分比变化（lt）|\n",
    "| maxret     | Bali, Cakici, and Whitelaw          | 2011, JFE     | 日历月tt-1期间退货的每日最大回报|\n",
    "| mom12m     | Jegadeesh                           | 1990, JF      |月底前一个月结束的 11 个月累计回报率|\n",
    "| mom1m      | Jegadeesh and Titman                | 1993, JF      |1个月累计回报|\n",
    "| mom36m     | Jegadeesh and Titman                | 1993, JF      | 从 tt-36 月到 tt-13 月的累积回报|\n",
    "| ms         | Mohanram                            | 2005, RAS     | 基本表现的 8 个指标变量之和 |\n",
    "| mve        | Banz                                | 1981, JFE     | 月末市值自然对数 tt-1|\n",
    "| mve_ia     | Asness, Porter, and Stevens         | 2000, WP      | 两位数的 SIC 行业调整财年末市值|\n",
    "| nanalyst   | Elgers, Lo, and Pfeiffer            | 2001, TAR     | 投资组合形成月份之前一个月内最新可用的 I/B/E/S 摘要文件中的分析师预测数量。如果 I/B/E/S 摘要文件中未涵盖，则 nanalyst 设置为零|\n",
    "| nincr      | Barth, Elliott, and Finn            | 1999, JAR     | 盈利 (ibq) 较上年同期增长的连续季度数（最多八个季度）|\n",
    "| operprof   | Fama and French                     | 2015, JFE     | 收入减去销售成本 - SG&A 费用 - 利息费用除以滞后普通股股东权益 |\n",
    "| orgcap     | Eisfeldt and Papanikolaou           | 2013, JF      | 资本化 SG&A 费用|\n",
    "| pchcapx_ia | Abarbanell and Bushee               | 1998, TAR     | 两位数 SIC - 财政年度资本支出均值调整百分比变化 (capx) |\n",
    "| pctacc     | Hafzalla, Lundholm, and Van Winkle  | 2011, TAR     |与 acc 相同，只不过分子除以 ib 的绝对值；如果 ib== 0 则分母 ib 设置为 0.01|\n",
    "| pricedelay | Hou & Moskowitz                     | 2005, RFS     | 以月为结束的 36 个月的周回报率变化比例，由相对于同期市场回报增量的周市场回报的 4 个滞后来解释|\n",
    "| quick      | Ou and Penman                       | 1989, JAE     | （流动资产-存货）/流动负债|\n",
    "| rd         | Eberhart, Maxwell, and Siddique     | 2004, JF      | 如果研发费用占总资产的百分比增幅大于5%，则指标变量等于1。|\n",
    "| rd_mve     | Guo, Lev, and Shi                   | 2006, JBFA    | 研发费用除以财年末市值|\n",
    "| realestate | Tuzel                               | 2010, RFS     | 建筑物和资本化租赁除以 PP&E 总额|\n",
    "| retvol     | Ang et al.                          | 2006, JF      | tt-1 月份每日回报的标准差 |\n",
    "| roaq       | Balakrishnan, Bartov, and Faurel    | 2010, JAE     | 非经常性项目前收入（ibq）除以四分之一落后于总资产（atq）|\n",
    "| roavol     | Francis et al.                      | 2004, TAR     | 16 个季度非经常性项目前收入 (ibq) 除以平均总资产 (atq) 的标准差|\n",
    "| roeq       | Hou, Xue, and Zhang                 | 2015 RFS      |非经常性项目前盈利除以滞后普通股股东权益|\n",
    "| roic       | Brown and Rowe                      | 2007, WP      | 息税前年收益 (ebit) 减去营业外收入 (nopi) 除以非现金企业价值 (ceq++lt-che)|\n",
    "| rsup       | Kama                                | 2009, JBFA    | t 季度销售额减去 tt-4 季度销售额 (saleq) 除以财季末市值 (cshoq * prccq)|\n",
    "| salecash   | Ou and Penman                       | 1989, JAE     | 年销售额除以现金和现金等价物 |\n",
    "| secured    | Valta                               | 2016, JFQA    |总负债规模担保债务|\n",
    "| sfe        | Elgers, Lo, and Pfeiffer            | 2001, TAR     | 分析师表示，根据 I/B/E/S 摘要文件，从投资组合形成月份之前的最近一个月开始，对即将到来的财政年度的年度盈利预测按财政季度末的每股价格进行调整。\n",
    "| sgr        | Lakonishok, Shleifer, and Vishny    | 1994, JF      | 销售额（销售额）的年度百分比变化|\n",
    "| sin        | Hong & Kacperczyk                   | 2009, JFE     | 如果公司的主要行业分类是烟草、啤酒或酒精或游戏，则指标变量等于 1|\n",
    "| SP         | Barbee, Mukherji, and Raines        | 1996, FAJ     | 年收入（销售额）除以财年末市值|\n",
    "| std_dolvol | Chordia, Subrahmanyam, and Anshuman | 2001, JFE     | 每日交易量的月度标准差|\n",
    "| stdcf      | Huang                               | 2009, JEF     | 16 个季度现金流量除以销售额的标准差 (saleq)；如果 saleq== 0，则缩放 0.01。现金流定义为 ibq 减去季度应计费用 |\n",
    "| sue        | Rendelman, Jones, and Latane        | 1982, JFE     | 意外季度收益除以财季末市值。意外收益是 I/B/E/S 实际收益减去预测收益中位数（如果有），否则是 Compustat 季度文件中不计特殊项目之前的季节性差异季度收益|\n",
    "| tang       | Almeida and Campello                | 2007, RFS     | 现金持有量 ++ 0.715 ×× 应收账款 ++0.547 ×× 库存 ++ 0.535 ×× PPE/总资产|\n",
    "| tb         | Lev and Nissim                      | 2004, TAR     | 税收收入，根据当前税收支出除以最高联邦税率，再除以非常项目之前的收入计算|\n",
    "| turn       | Datar, Naik, and Radcliffe          | 1998, JFM     | 最近 3 个月的平均月交易量按当月已发行股票数量计算|\n",
    "| zerotrade  | Liu                                 | 2006, JFE     | 最近1个月成交量加权零交易日数|"
   ]
  },
  {
   "cell_type": "code",
   "execution_count": null,
   "metadata": {},
   "outputs": [],
   "source": []
  }
 ],
 "metadata": {
  "kernelspec": {
   "display_name": "Python 3",
   "language": "python",
   "name": "python3"
  },
  "language_info": {
   "codemirror_mode": {
    "name": "ipython",
    "version": 3
   },
   "file_extension": ".py",
   "mimetype": "text/x-python",
   "name": "python",
   "nbconvert_exporter": "python",
   "pygments_lexer": "ipython3",
   "version": "3.8.8"
  },
  "toc": {
   "base_numbering": 1,
   "nav_menu": {},
   "number_sections": true,
   "sideBar": true,
   "skip_h1_title": false,
   "title_cell": "Table of Contents",
   "title_sidebar": "Contents",
   "toc_cell": false,
   "toc_position": {},
   "toc_section_display": true,
   "toc_window_display": false
  }
 },
 "nbformat": 4,
 "nbformat_minor": 4
}
