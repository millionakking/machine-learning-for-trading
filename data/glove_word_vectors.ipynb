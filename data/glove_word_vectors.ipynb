{
 "cells": [
  {
   "attachments": {},
   "cell_type": "markdown",
   "metadata": {},
   "source": [
    "# 下载用于词表示的预训练全局向量 (GloVe)"
   ]
  },
  {
   "attachments": {},
   "cell_type": "markdown",
   "metadata": {},
   "source": [
    "我们使用的数据集包含 2009 年的 160 万条训练推文和 350 条测试推文，算法分配的二元正面和负面情绪分数相当平均。"
   ]
  },
  {
   "attachments": {},
   "cell_type": "markdown",
   "metadata": {},
   "source": [
    "## 导入和设置"
   ]
  },
  {
   "cell_type": "code",
   "execution_count": 1,
   "metadata": {
    "ExecuteTime": {
     "end_time": "2021-02-23T05:06:46.301154Z",
     "start_time": "2021-02-23T05:06:46.265026Z"
    }
   },
   "outputs": [],
   "source": [
    "from pathlib import Path\n",
    "import requests\n",
    "from io import BytesIO\n",
    "from zipfile import ZipFile\n",
    "from tqdm import tqdm"
   ]
  },
  {
   "attachments": {},
   "cell_type": "markdown",
   "metadata": {},
   "source": [
    "## 下载解压"
   ]
  },
  {
   "attachments": {},
   "cell_type": "markdown",
   "metadata": {},
   "source": [
    "您可以了解有关数据的更多信息并从[此处](https://nlp.stanford.edu/projects/glove/) 手动下载它们。"
   ]
  },
  {
   "cell_type": "code",
   "execution_count": 2,
   "metadata": {
    "ExecuteTime": {
     "end_time": "2021-02-23T05:06:46.303974Z",
     "start_time": "2021-02-23T05:06:46.302216Z"
    }
   },
   "outputs": [],
   "source": [
    "path = Path('glove')\n",
    "if not path.exists():\n",
    "    path.mkdir()"
   ]
  },
  {
   "cell_type": "code",
   "execution_count": 3,
   "metadata": {
    "ExecuteTime": {
     "end_time": "2021-02-23T05:06:46.333523Z",
     "start_time": "2021-02-23T05:06:46.305049Z"
    }
   },
   "outputs": [],
   "source": [
    "URLs = ['http://nlp.stanford.edu/data/glove.6B.zip',\n",
    "        'http://nlp.stanford.edu/data/glove.twitter.27B.zip',\n",
    "        'http://nlp.stanford.edu/data/glove.840B.300d.zip']"
   ]
  },
  {
   "cell_type": "code",
   "execution_count": 4,
   "metadata": {
    "ExecuteTime": {
     "end_time": "2021-02-23T05:06:46.345288Z",
     "start_time": "2021-02-23T05:06:46.334383Z"
    }
   },
   "outputs": [],
   "source": [
    "all_targets = [('glove.6B.100d.txt', 'glove.6B.300d.txt'),\n",
    "               ('glove.twitter.27B.200d.txt',),\n",
    "               ('glove.840B.300d.txt',)]"
   ]
  },
  {
   "attachments": {},
   "cell_type": "markdown",
   "metadata": {},
   "source": [
    "下载每个目标可能需要 10-20 分钟或更长时间，具体取决于您的连接。您可以在浏览器中粘贴其中一个网址，以检查下载速度和时间估计。"
   ]
  },
  {
   "cell_type": "code",
   "execution_count": 5,
   "metadata": {
    "ExecuteTime": {
     "end_time": "2021-02-23T05:44:32.843649Z",
     "start_time": "2021-02-23T05:06:46.346247Z"
    }
   },
   "outputs": [
    {
     "name": "stdout",
     "output_type": "stream",
     "text": [
      "downloading ('glove.6B.100d.txt', 'glove.6B.300d.txt')...\n"
     ]
    },
    {
     "name": "stderr",
     "output_type": "stream",
     "text": [
      "\r\n",
      "  0%|          | 0/4 [00:00<?, ?it/s]"
     ]
    },
    {
     "name": "stdout",
     "output_type": "stream",
     "text": [
      "done\n"
     ]
    },
    {
     "name": "stderr",
     "output_type": "stream",
     "text": [
      "100%|██████████| 4/4 [00:11<00:00,  2.85s/it]\n"
     ]
    },
    {
     "name": "stdout",
     "output_type": "stream",
     "text": [
      "downloading ('glove.twitter.27B.200d.txt',)...\n"
     ]
    },
    {
     "name": "stderr",
     "output_type": "stream",
     "text": [
      "\r\n",
      "  0%|          | 0/4 [00:00<?, ?it/s]"
     ]
    },
    {
     "name": "stdout",
     "output_type": "stream",
     "text": [
      "done\n"
     ]
    },
    {
     "name": "stderr",
     "output_type": "stream",
     "text": [
      "100%|██████████| 4/4 [00:16<00:00,  4.02s/it]\n"
     ]
    },
    {
     "name": "stdout",
     "output_type": "stream",
     "text": [
      "downloading ('glove.840B.300d.txt',)...\n"
     ]
    },
    {
     "name": "stderr",
     "output_type": "stream",
     "text": [
      "\r\n",
      "  0%|          | 0/1 [00:00<?, ?it/s]"
     ]
    },
    {
     "name": "stdout",
     "output_type": "stream",
     "text": [
      "done\n"
     ]
    },
    {
     "name": "stderr",
     "output_type": "stream",
     "text": [
      "100%|██████████| 1/1 [00:58<00:00, 58.75s/it]\n"
     ]
    }
   ],
   "source": [
    "for url, targets in zip(URLs, all_targets):\n",
    "    print(f'downloading {targets}...')\n",
    "    response = requests.get(url).content\n",
    "    print('done')\n",
    "    with ZipFile(BytesIO(response)) as zip_file:\n",
    "        for file in tqdm(zip_file.namelist()):\n",
    "            if file in targets:\n",
    "                local_file = path / file\n",
    "                if not local_file.exists():\n",
    "                    with local_file.open('wb') as output:\n",
    "                        for line in zip_file.open(file).readlines():\n",
    "                            output.write(line)"
   ]
  }
 ],
 "metadata": {
  "kernelspec": {
   "display_name": "Python [conda env:ml4t] *",
   "language": "python",
   "name": "conda-env-ml4t-py"
  },
  "language_info": {
   "codemirror_mode": {
    "name": "ipython",
    "version": 3
   },
   "file_extension": ".py",
   "mimetype": "text/x-python",
   "name": "python",
   "nbconvert_exporter": "python",
   "pygments_lexer": "ipython3",
   "version": "3.8.5"
  },
  "toc": {
   "base_numbering": 1,
   "nav_menu": {},
   "number_sections": true,
   "sideBar": true,
   "skip_h1_title": true,
   "title_cell": "Table of Contents",
   "title_sidebar": "Contents",
   "toc_cell": false,
   "toc_position": {},
   "toc_section_display": true,
   "toc_window_display": true
  }
 },
 "nbformat": 4,
 "nbformat_minor": 4
}
