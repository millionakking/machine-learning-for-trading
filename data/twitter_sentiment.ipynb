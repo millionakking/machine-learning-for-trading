{
 "cells": [
  {
   "attachments": {},
   "cell_type": "markdown",
   "metadata": {},
   "source": [
    "# 下载 Twitter 数据进行情绪分析"
   ]
  },
  {
   "attachments": {},
   "cell_type": "markdown",
   "metadata": {},
   "source": [
    "我们使用的数据集包含 2009 年的 160 万条训练推文和 350 条测试推文，算法分配的二元正面和负面情绪分数相当平均。"
   ]
  },
  {
   "cell_type": "code",
   "execution_count": 9,
   "metadata": {
    "ExecuteTime": {
     "end_time": "2020-06-21T00:31:58.308350Z",
     "start_time": "2020-06-21T00:31:57.790270Z"
    }
   },
   "outputs": [],
   "source": [
    "from pathlib import Path\n",
    "import requests\n",
    "from io import BytesIO\n",
    "from zipfile import ZipFile"
   ]
  },
  {
   "attachments": {},
   "cell_type": "markdown",
   "metadata": {},
   "source": [
    "## 下载解压"
   ]
  },
  {
   "attachments": {},
   "cell_type": "markdown",
   "metadata": {},
   "source": [
    "从 [此处](http://cs.stanford.edu/people/alecmgo/trainingandtestdata.zip) 下载数据。\n"
   ]
  },
  {
   "attachments": {},
   "cell_type": "markdown",
   "metadata": {},
   "source": [
    "以下代码下载并提取压缩文件的内容并将其存储在'sentiment140'中，同时将内容重命名如下：\n",
    "- `training.1600000.processed.noemoticon.csv` 到 `train.csv`，以及\n",
    "- `testdata.manual.2009.06.14.csv` 到 `test.csv`"
   ]
  },
  {
   "cell_type": "code",
   "execution_count": 2,
   "metadata": {
    "ExecuteTime": {
     "end_time": "2020-06-21T00:25:19.229380Z",
     "start_time": "2020-06-21T00:25:19.224873Z"
    }
   },
   "outputs": [],
   "source": [
    "path = Path('sentiment140')\n",
    "if not path.exists():\n",
    "    path.mkdir()"
   ]
  },
  {
   "cell_type": "code",
   "execution_count": 3,
   "metadata": {
    "ExecuteTime": {
     "end_time": "2020-06-21T00:25:19.236716Z",
     "start_time": "2020-06-21T00:25:19.230823Z"
    }
   },
   "outputs": [],
   "source": [
    "URL = 'http://cs.stanford.edu/people/alecmgo/trainingandtestdata.zip'"
   ]
  },
  {
   "cell_type": "code",
   "execution_count": 5,
   "metadata": {
    "ExecuteTime": {
     "end_time": "2020-06-21T00:26:09.959959Z",
     "start_time": "2020-06-21T00:25:26.510947Z"
    }
   },
   "outputs": [],
   "source": [
    "response = requests.get(URL).content"
   ]
  },
  {
   "cell_type": "code",
   "execution_count": 8,
   "metadata": {
    "ExecuteTime": {
     "end_time": "2020-06-21T00:28:27.896171Z",
     "start_time": "2020-06-21T00:28:23.826570Z"
    }
   },
   "outputs": [],
   "source": [
    "with ZipFile(BytesIO(response)) as zip_file:\n",
    "    for i, file in enumerate(zip_file.namelist()):\n",
    "        if file.startswith('train'):\n",
    "            local_file = path / 'train.csv'\n",
    "        elif file.startswith('test'):\n",
    "            local_file = path / 'test.csv'\n",
    "        else:\n",
    "            continue\n",
    "        with local_file.open('wb') as output:\n",
    "            for line in zip_file.open(file).readlines():\n",
    "                output.write(line)"
   ]
  }
 ],
 "metadata": {
  "kernelspec": {
   "display_name": "Python [conda env:ml4t] *",
   "language": "python",
   "name": "conda-env-ml4t-py"
  },
  "language_info": {
   "codemirror_mode": {
    "name": "ipython",
    "version": 3
   },
   "file_extension": ".py",
   "mimetype": "text/x-python",
   "name": "python",
   "nbconvert_exporter": "python",
   "pygments_lexer": "ipython3",
   "version": "3.7.7"
  },
  "toc": {
   "base_numbering": 1,
   "nav_menu": {},
   "number_sections": true,
   "sideBar": true,
   "skip_h1_title": false,
   "title_cell": "Table of Contents",
   "title_sidebar": "Contents",
   "toc_cell": false,
   "toc_position": {},
   "toc_section_display": true,
   "toc_window_display": false
  }
 },
 "nbformat": 4,
 "nbformat_minor": 4
}
