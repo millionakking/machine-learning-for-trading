{
 "cells": [
  {
   "attachments": {},
   "cell_type": "markdown",
   "metadata": {},
   "source": [
    "# 如何建立线性因子模型"
   ]
  },
  {
   "attachments": {},
   "cell_type": "markdown",
   "metadata": {},
   "source": [
    "算法交易策略使用线性因子模型来量化资产回报与代表这些回报主要驱动因素的风险来源之间的关系。每个因素风险都有溢价，总资产回报预计对应于这些风险溢价的加权平均值。\n"
   ]
  },
  {
   "attachments": {},
   "cell_type": "markdown",
   "metadata": {},
   "source": [
    "从构建和资产选择到风险管理和绩效评估，因子模型在整个投资组合管理过程中有多种实际应用。随着常见风险因素现在可以交易，因素模型的重要性持续增长：\n",
    "\n",
    "- 通过更少数量的因素对许多资产的回报进行汇总，减少了优化投资组合时估计协方差矩阵所需的数据量\n",
    "- 对资产或投资组合对这些因素的暴露程度的估计可以管理由此产生的风险，例如在风险因素本身进行交易时输入适当的对冲\n",
    "- 因子模型还允许评估新 alpha 因子的增量信号内容\n",
    "- 因子模型还可以帮助评估管理者相对于基准的绩效是否确实归因于选择资产和把握市场时机的技能，或者是否可以通过投资组合对已知回报驱动因素的倾斜来解释绩效，而这些回报驱动因素现在可以复制作为低成本、被动管理的基金，无需支付主动管理费\n"
   ]
  },
  {
   "attachments": {},
   "cell_type": "markdown",
   "metadata": {},
   "source": [
    "## 导入和设置"
   ]
  },
  {
   "cell_type": "code",
   "execution_count": 1,
   "metadata": {
    "ExecuteTime": {
     "end_time": "2021-04-15T19:55:07.984117Z",
     "start_time": "2021-04-15T19:55:07.982285Z"
    }
   },
   "outputs": [],
   "source": [
    "import warnings\n",
    "warnings.filterwarnings('ignore')"
   ]
  },
  {
   "cell_type": "code",
   "execution_count": 2,
   "metadata": {
    "ExecuteTime": {
     "end_time": "2021-04-15T19:55:09.073976Z",
     "start_time": "2021-04-15T19:55:08.102748Z"
    }
   },
   "outputs": [],
   "source": [
    "import pandas as pd\n",
    "import numpy as np\n",
    "\n",
    "from statsmodels.api import OLS, add_constant\n",
    "import pandas_datareader.data as web\n",
    "\n",
    "from linearmodels.asset_pricing import LinearFactorModel\n",
    "\n",
    "import matplotlib.pyplot as plt\n",
    "import seaborn as sns"
   ]
  },
  {
   "cell_type": "code",
   "execution_count": 3,
   "metadata": {
    "ExecuteTime": {
     "end_time": "2021-04-15T19:55:09.077317Z",
     "start_time": "2021-04-15T19:55:09.075045Z"
    }
   },
   "outputs": [],
   "source": [
    "sns.set_style('whitegrid')"
   ]
  },
  {
   "attachments": {},
   "cell_type": "markdown",
   "metadata": {},
   "source": [
    "## 获取数据"
   ]
  },
  {
   "attachments": {},
   "cell_type": "markdown",
   "metadata": {},
   "source": [
    "Fama 和 French 通过他们的[网站](http://mba.tuck.dartmouth.edu/pages/faculty/ken.french/data_library.html)提供更新的风险因素和研究组合数据，您可以使用`pandas_datareader ` 包来获取数据。"
   ]
  },
  {
   "attachments": {},
   "cell_type": "markdown",
   "metadata": {},
   "source": [
    "### 风险因子"
   ]
  },
  {
   "attachments": {},
   "cell_type": "markdown",
   "metadata": {},
   "source": [
    "特别是，我们将使用五个 Fama-French 因子，这些因子首先将股票分为三个规模组，然后针对其余三个公司特定因子中的每个因子将其分为两个规模组。\n",
    "\n",
    "因此，这些因素涉及三组价值加权投资组合，按规模和账面市值比、规模和运营盈利能力以及规模和投资形成 3 x 2 类。风险因子值计算为投资组合的平均回报 (PF)，如下表所示：\n"
   ]
  },
  {
   "attachments": {},
   "cell_type": "markdown",
   "metadata": {},
   "source": [
    "| 标签 | 名称                          | 描述                                                                                                                                                                               |\n",
    "|-------|-------------------------------|-------------------------------------------------------------------------------------------------------------------------------------------------------------------------------------------|\n",
    "| SMB   | 小减大              | 九个小股票投资组合的平均回报减去九个大股票投资组合的平均回报                                                                             |\n",
    "| HML   | 高点减去低点                | 两个价值投资组合的平均回报减去两个增长投资组合的平均回报                                                                                        |\n",
    "| RMW   | 强减弱            | 两个稳健的运营盈利能力投资组合的平均回报减去两个较弱的运营盈利能力投资组合的平均回报                                           |\n",
    "| CMA   | 保守减激进 | 两个保守投资组合的平均回报减去两个激进投资组合的平均回报                                                        |\n",
    "| Rm-Rf | 市场超额回报   | 所有在美国注册并在纽约证券交易所、美国证券交易所或纳斯达克上市的公司在 t 月初的价值权重回报，t 数据为“良好”，减去一个月国库券利率 |"
   ]
  },
  {
   "attachments": {},
   "cell_type": "markdown",
   "metadata": {},
   "source": [
    "Fama-French 5因子基于根据规模和账面市值比形成的6个价值权重投资组合、根据规模和运营盈利能力形成的6个价值权重投资组合以及根据规模和投资形成的6个价值权重投资组合。"
   ]
  },
  {
   "attachments": {},
   "cell_type": "markdown",
   "metadata": {},
   "source": [
    "我们将按月频率使用 2010 年至 2017 年期间获得的回报，如下所示："
   ]
  },
  {
   "cell_type": "code",
   "execution_count": 4,
   "metadata": {
    "ExecuteTime": {
     "end_time": "2021-04-15T19:55:13.367412Z",
     "start_time": "2021-04-15T19:55:13.065455Z"
    }
   },
   "outputs": [
    {
     "name": "stdout",
     "output_type": "stream",
     "text": [
      "<class 'pandas.core.frame.DataFrame'>\n",
      "PeriodIndex: 96 entries, 2010-01 to 2017-12\n",
      "Freq: M\n",
      "Data columns (total 6 columns):\n",
      " #   Column  Non-Null Count  Dtype  \n",
      "---  ------  --------------  -----  \n",
      " 0   Mkt-RF  96 non-null     float64\n",
      " 1   SMB     96 non-null     float64\n",
      " 2   HML     96 non-null     float64\n",
      " 3   RMW     96 non-null     float64\n",
      " 4   CMA     96 non-null     float64\n",
      " 5   RF      96 non-null     float64\n",
      "dtypes: float64(6)\n",
      "memory usage: 5.2 KB\n"
     ]
    }
   ],
   "source": [
    "ff_factor = 'F-F_Research_Data_5_Factors_2x3'\n",
    "ff_factor_data = web.DataReader(ff_factor, 'famafrench', start='2010', end='2017-12')[0]\n",
    "ff_factor_data.info()"
   ]
  },
  {
   "cell_type": "code",
   "execution_count": 5,
   "metadata": {
    "ExecuteTime": {
     "end_time": "2021-04-15T19:55:13.386698Z",
     "start_time": "2021-04-15T19:55:13.368623Z"
    }
   },
   "outputs": [
    {
     "data": {
      "text/html": [
       "<div>\n",
       "<style scoped>\n",
       "    .dataframe tbody tr th:only-of-type {\n",
       "        vertical-align: middle;\n",
       "    }\n",
       "\n",
       "    .dataframe tbody tr th {\n",
       "        vertical-align: top;\n",
       "    }\n",
       "\n",
       "    .dataframe thead th {\n",
       "        text-align: right;\n",
       "    }\n",
       "</style>\n",
       "<table border=\"1\" class=\"dataframe\">\n",
       "  <thead>\n",
       "    <tr style=\"text-align: right;\">\n",
       "      <th></th>\n",
       "      <th>Mkt-RF</th>\n",
       "      <th>SMB</th>\n",
       "      <th>HML</th>\n",
       "      <th>RMW</th>\n",
       "      <th>CMA</th>\n",
       "      <th>RF</th>\n",
       "    </tr>\n",
       "  </thead>\n",
       "  <tbody>\n",
       "    <tr>\n",
       "      <th>count</th>\n",
       "      <td>96.000000</td>\n",
       "      <td>96.000000</td>\n",
       "      <td>96.000000</td>\n",
       "      <td>96.000000</td>\n",
       "      <td>96.000000</td>\n",
       "      <td>96.000000</td>\n",
       "    </tr>\n",
       "    <tr>\n",
       "      <th>mean</th>\n",
       "      <td>1.158438</td>\n",
       "      <td>0.059896</td>\n",
       "      <td>-0.049271</td>\n",
       "      <td>0.130000</td>\n",
       "      <td>0.047708</td>\n",
       "      <td>0.012604</td>\n",
       "    </tr>\n",
       "    <tr>\n",
       "      <th>std</th>\n",
       "      <td>3.580012</td>\n",
       "      <td>2.300378</td>\n",
       "      <td>2.202912</td>\n",
       "      <td>1.581971</td>\n",
       "      <td>1.413029</td>\n",
       "      <td>0.022583</td>\n",
       "    </tr>\n",
       "    <tr>\n",
       "      <th>min</th>\n",
       "      <td>-7.890000</td>\n",
       "      <td>-4.580000</td>\n",
       "      <td>-4.700000</td>\n",
       "      <td>-3.880000</td>\n",
       "      <td>-3.240000</td>\n",
       "      <td>0.000000</td>\n",
       "    </tr>\n",
       "    <tr>\n",
       "      <th>25%</th>\n",
       "      <td>-0.917500</td>\n",
       "      <td>-1.670000</td>\n",
       "      <td>-1.665000</td>\n",
       "      <td>-1.075000</td>\n",
       "      <td>-0.952500</td>\n",
       "      <td>0.000000</td>\n",
       "    </tr>\n",
       "    <tr>\n",
       "      <th>50%</th>\n",
       "      <td>1.235000</td>\n",
       "      <td>0.200000</td>\n",
       "      <td>-0.275000</td>\n",
       "      <td>0.210000</td>\n",
       "      <td>0.010000</td>\n",
       "      <td>0.000000</td>\n",
       "    </tr>\n",
       "    <tr>\n",
       "      <th>75%</th>\n",
       "      <td>3.197500</td>\n",
       "      <td>1.582500</td>\n",
       "      <td>1.205000</td>\n",
       "      <td>1.235000</td>\n",
       "      <td>0.930000</td>\n",
       "      <td>0.010000</td>\n",
       "    </tr>\n",
       "    <tr>\n",
       "      <th>max</th>\n",
       "      <td>11.350000</td>\n",
       "      <td>7.040000</td>\n",
       "      <td>8.190000</td>\n",
       "      <td>3.480000</td>\n",
       "      <td>3.690000</td>\n",
       "      <td>0.090000</td>\n",
       "    </tr>\n",
       "  </tbody>\n",
       "</table>\n",
       "</div>"
      ],
      "text/plain": [
       "          Mkt-RF        SMB        HML        RMW        CMA         RF\n",
       "count  96.000000  96.000000  96.000000  96.000000  96.000000  96.000000\n",
       "mean    1.158438   0.059896  -0.049271   0.130000   0.047708   0.012604\n",
       "std     3.580012   2.300378   2.202912   1.581971   1.413029   0.022583\n",
       "min    -7.890000  -4.580000  -4.700000  -3.880000  -3.240000   0.000000\n",
       "25%    -0.917500  -1.670000  -1.665000  -1.075000  -0.952500   0.000000\n",
       "50%     1.235000   0.200000  -0.275000   0.210000   0.010000   0.000000\n",
       "75%     3.197500   1.582500   1.205000   1.235000   0.930000   0.010000\n",
       "max    11.350000   7.040000   8.190000   3.480000   3.690000   0.090000"
      ]
     },
     "execution_count": 5,
     "metadata": {},
     "output_type": "execute_result"
    }
   ],
   "source": [
    "ff_factor_data.describe()"
   ]
  },
  {
   "attachments": {},
   "cell_type": "markdown",
   "metadata": {},
   "source": [
    "### 作品集"
   ]
  },
  {
   "attachments": {},
   "cell_type": "markdown",
   "metadata": {},
   "source": [
    "Fama 和 French 还提供了大量的投资组合，我们可以用它们来说明因子暴露的估计，以及给定时间段内市场上可用的风险溢价的价值。我们将每月使用 17 个行业组合的面板。\n",
    "\n",
    "我们将从回报中减去无风险利率，因为因子模型适用于超额回报："
   ]
  },
  {
   "cell_type": "code",
   "execution_count": 6,
   "metadata": {
    "ExecuteTime": {
     "end_time": "2021-04-15T19:55:14.483710Z",
     "start_time": "2021-04-15T19:55:13.388307Z"
    }
   },
   "outputs": [
    {
     "name": "stdout",
     "output_type": "stream",
     "text": [
      "<class 'pandas.core.frame.DataFrame'>\n",
      "PeriodIndex: 96 entries, 2010-01 to 2017-12\n",
      "Freq: M\n",
      "Data columns (total 17 columns):\n",
      " #   Column  Non-Null Count  Dtype  \n",
      "---  ------  --------------  -----  \n",
      " 0   Food    96 non-null     float64\n",
      " 1   Mines   96 non-null     float64\n",
      " 2   Oil     96 non-null     float64\n",
      " 3   Clths   96 non-null     float64\n",
      " 4   Durbl   96 non-null     float64\n",
      " 5   Chems   96 non-null     float64\n",
      " 6   Cnsum   96 non-null     float64\n",
      " 7   Cnstr   96 non-null     float64\n",
      " 8   Steel   96 non-null     float64\n",
      " 9   FabPr   96 non-null     float64\n",
      " 10  Machn   96 non-null     float64\n",
      " 11  Cars    96 non-null     float64\n",
      " 12  Trans   96 non-null     float64\n",
      " 13  Utils   96 non-null     float64\n",
      " 14  Rtail   96 non-null     float64\n",
      " 15  Finan   96 non-null     float64\n",
      " 16  Other   96 non-null     float64\n",
      "dtypes: float64(17)\n",
      "memory usage: 13.5 KB\n"
     ]
    }
   ],
   "source": [
    "ff_portfolio = '17_Industry_Portfolios'\n",
    "ff_portfolio_data = web.DataReader(ff_portfolio, 'famafrench', start='2010', end='2017-12')[0]\n",
    "ff_portfolio_data = ff_portfolio_data.sub(ff_factor_data.RF, axis=0)\n",
    "ff_portfolio_data.info()"
   ]
  },
  {
   "cell_type": "code",
   "execution_count": 7,
   "metadata": {
    "ExecuteTime": {
     "end_time": "2021-04-15T19:55:14.519355Z",
     "start_time": "2021-04-15T19:55:14.484749Z"
    }
   },
   "outputs": [
    {
     "data": {
      "text/html": [
       "<div>\n",
       "<style scoped>\n",
       "    .dataframe tbody tr th:only-of-type {\n",
       "        vertical-align: middle;\n",
       "    }\n",
       "\n",
       "    .dataframe tbody tr th {\n",
       "        vertical-align: top;\n",
       "    }\n",
       "\n",
       "    .dataframe thead th {\n",
       "        text-align: right;\n",
       "    }\n",
       "</style>\n",
       "<table border=\"1\" class=\"dataframe\">\n",
       "  <thead>\n",
       "    <tr style=\"text-align: right;\">\n",
       "      <th></th>\n",
       "      <th>Food</th>\n",
       "      <th>Mines</th>\n",
       "      <th>Oil</th>\n",
       "      <th>Clths</th>\n",
       "      <th>Durbl</th>\n",
       "      <th>Chems</th>\n",
       "      <th>Cnsum</th>\n",
       "      <th>Cnstr</th>\n",
       "      <th>Steel</th>\n",
       "      <th>FabPr</th>\n",
       "      <th>Machn</th>\n",
       "      <th>Cars</th>\n",
       "      <th>Trans</th>\n",
       "      <th>Utils</th>\n",
       "      <th>Rtail</th>\n",
       "      <th>Finan</th>\n",
       "      <th>Other</th>\n",
       "    </tr>\n",
       "  </thead>\n",
       "  <tbody>\n",
       "    <tr>\n",
       "      <th>count</th>\n",
       "      <td>96.000000</td>\n",
       "      <td>96.000000</td>\n",
       "      <td>96.000000</td>\n",
       "      <td>96.000000</td>\n",
       "      <td>96.000000</td>\n",
       "      <td>96.000000</td>\n",
       "      <td>96.000000</td>\n",
       "      <td>96.000000</td>\n",
       "      <td>96.000000</td>\n",
       "      <td>96.000000</td>\n",
       "      <td>96.000000</td>\n",
       "      <td>96.000000</td>\n",
       "      <td>96.000000</td>\n",
       "      <td>96.000000</td>\n",
       "      <td>96.000000</td>\n",
       "      <td>96.000000</td>\n",
       "      <td>96.000000</td>\n",
       "    </tr>\n",
       "    <tr>\n",
       "      <th>mean</th>\n",
       "      <td>1.046771</td>\n",
       "      <td>0.202917</td>\n",
       "      <td>0.597187</td>\n",
       "      <td>1.395833</td>\n",
       "      <td>1.151458</td>\n",
       "      <td>1.305000</td>\n",
       "      <td>1.186979</td>\n",
       "      <td>1.735521</td>\n",
       "      <td>0.559167</td>\n",
       "      <td>1.350521</td>\n",
       "      <td>1.217708</td>\n",
       "      <td>1.279479</td>\n",
       "      <td>1.463750</td>\n",
       "      <td>0.896458</td>\n",
       "      <td>1.233958</td>\n",
       "      <td>1.248646</td>\n",
       "      <td>1.290938</td>\n",
       "    </tr>\n",
       "    <tr>\n",
       "      <th>std</th>\n",
       "      <td>2.800555</td>\n",
       "      <td>7.904401</td>\n",
       "      <td>5.480938</td>\n",
       "      <td>5.024408</td>\n",
       "      <td>5.163951</td>\n",
       "      <td>5.594161</td>\n",
       "      <td>3.142989</td>\n",
       "      <td>5.243314</td>\n",
       "      <td>7.389679</td>\n",
       "      <td>4.694408</td>\n",
       "      <td>4.798098</td>\n",
       "      <td>5.719351</td>\n",
       "      <td>4.143005</td>\n",
       "      <td>3.233107</td>\n",
       "      <td>3.512518</td>\n",
       "      <td>4.839150</td>\n",
       "      <td>3.697608</td>\n",
       "    </tr>\n",
       "    <tr>\n",
       "      <th>min</th>\n",
       "      <td>-5.170000</td>\n",
       "      <td>-24.380000</td>\n",
       "      <td>-11.680000</td>\n",
       "      <td>-10.000000</td>\n",
       "      <td>-13.160000</td>\n",
       "      <td>-17.390000</td>\n",
       "      <td>-7.150000</td>\n",
       "      <td>-14.160000</td>\n",
       "      <td>-20.490000</td>\n",
       "      <td>-11.960000</td>\n",
       "      <td>-9.070000</td>\n",
       "      <td>-11.650000</td>\n",
       "      <td>-8.560000</td>\n",
       "      <td>-6.990000</td>\n",
       "      <td>-9.180000</td>\n",
       "      <td>-11.140000</td>\n",
       "      <td>-7.890000</td>\n",
       "    </tr>\n",
       "    <tr>\n",
       "      <th>25%</th>\n",
       "      <td>-0.785000</td>\n",
       "      <td>-5.840000</td>\n",
       "      <td>-3.117500</td>\n",
       "      <td>-1.865000</td>\n",
       "      <td>-2.100000</td>\n",
       "      <td>-1.445000</td>\n",
       "      <td>-0.855000</td>\n",
       "      <td>-2.410000</td>\n",
       "      <td>-4.395000</td>\n",
       "      <td>-1.447500</td>\n",
       "      <td>-2.062500</td>\n",
       "      <td>-1.245000</td>\n",
       "      <td>-0.810000</td>\n",
       "      <td>-0.737500</td>\n",
       "      <td>-0.952500</td>\n",
       "      <td>-1.462500</td>\n",
       "      <td>-1.090000</td>\n",
       "    </tr>\n",
       "    <tr>\n",
       "      <th>50%</th>\n",
       "      <td>0.920000</td>\n",
       "      <td>-0.435000</td>\n",
       "      <td>0.985000</td>\n",
       "      <td>1.160000</td>\n",
       "      <td>1.225000</td>\n",
       "      <td>1.435000</td>\n",
       "      <td>1.465000</td>\n",
       "      <td>2.175000</td>\n",
       "      <td>0.660000</td>\n",
       "      <td>1.485000</td>\n",
       "      <td>1.525000</td>\n",
       "      <td>0.635000</td>\n",
       "      <td>1.480000</td>\n",
       "      <td>1.240000</td>\n",
       "      <td>0.865000</td>\n",
       "      <td>1.910000</td>\n",
       "      <td>1.660000</td>\n",
       "    </tr>\n",
       "    <tr>\n",
       "      <th>75%</th>\n",
       "      <td>3.187500</td>\n",
       "      <td>5.727500</td>\n",
       "      <td>4.152500</td>\n",
       "      <td>3.857500</td>\n",
       "      <td>4.160000</td>\n",
       "      <td>4.442500</td>\n",
       "      <td>3.302500</td>\n",
       "      <td>5.557500</td>\n",
       "      <td>4.212500</td>\n",
       "      <td>3.837500</td>\n",
       "      <td>4.580000</td>\n",
       "      <td>4.802500</td>\n",
       "      <td>4.242500</td>\n",
       "      <td>2.965000</td>\n",
       "      <td>3.370000</td>\n",
       "      <td>4.100000</td>\n",
       "      <td>3.485000</td>\n",
       "    </tr>\n",
       "    <tr>\n",
       "      <th>max</th>\n",
       "      <td>6.670000</td>\n",
       "      <td>21.940000</td>\n",
       "      <td>15.940000</td>\n",
       "      <td>17.190000</td>\n",
       "      <td>16.610000</td>\n",
       "      <td>18.370000</td>\n",
       "      <td>8.260000</td>\n",
       "      <td>15.510000</td>\n",
       "      <td>21.350000</td>\n",
       "      <td>17.660000</td>\n",
       "      <td>14.750000</td>\n",
       "      <td>20.860000</td>\n",
       "      <td>12.980000</td>\n",
       "      <td>7.840000</td>\n",
       "      <td>12.440000</td>\n",
       "      <td>13.410000</td>\n",
       "      <td>10.770000</td>\n",
       "    </tr>\n",
       "  </tbody>\n",
       "</table>\n",
       "</div>"
      ],
      "text/plain": [
       "           Food       Mines      Oil        Clths      Durbl      Chems  \\\n",
       "count  96.000000  96.000000  96.000000  96.000000  96.000000  96.000000   \n",
       "mean    1.046771   0.202917   0.597187   1.395833   1.151458   1.305000   \n",
       "std     2.800555   7.904401   5.480938   5.024408   5.163951   5.594161   \n",
       "min    -5.170000 -24.380000 -11.680000 -10.000000 -13.160000 -17.390000   \n",
       "25%    -0.785000  -5.840000  -3.117500  -1.865000  -2.100000  -1.445000   \n",
       "50%     0.920000  -0.435000   0.985000   1.160000   1.225000   1.435000   \n",
       "75%     3.187500   5.727500   4.152500   3.857500   4.160000   4.442500   \n",
       "max     6.670000  21.940000  15.940000  17.190000  16.610000  18.370000   \n",
       "\n",
       "           Cnsum      Cnstr      Steel      FabPr      Machn      Cars   \\\n",
       "count  96.000000  96.000000  96.000000  96.000000  96.000000  96.000000   \n",
       "mean    1.186979   1.735521   0.559167   1.350521   1.217708   1.279479   \n",
       "std     3.142989   5.243314   7.389679   4.694408   4.798098   5.719351   \n",
       "min    -7.150000 -14.160000 -20.490000 -11.960000  -9.070000 -11.650000   \n",
       "25%    -0.855000  -2.410000  -4.395000  -1.447500  -2.062500  -1.245000   \n",
       "50%     1.465000   2.175000   0.660000   1.485000   1.525000   0.635000   \n",
       "75%     3.302500   5.557500   4.212500   3.837500   4.580000   4.802500   \n",
       "max     8.260000  15.510000  21.350000  17.660000  14.750000  20.860000   \n",
       "\n",
       "           Trans      Utils      Rtail      Finan      Other  \n",
       "count  96.000000  96.000000  96.000000  96.000000  96.000000  \n",
       "mean    1.463750   0.896458   1.233958   1.248646   1.290938  \n",
       "std     4.143005   3.233107   3.512518   4.839150   3.697608  \n",
       "min    -8.560000  -6.990000  -9.180000 -11.140000  -7.890000  \n",
       "25%    -0.810000  -0.737500  -0.952500  -1.462500  -1.090000  \n",
       "50%     1.480000   1.240000   0.865000   1.910000   1.660000  \n",
       "75%     4.242500   2.965000   3.370000   4.100000   3.485000  \n",
       "max    12.980000   7.840000  12.440000  13.410000  10.770000  "
      ]
     },
     "execution_count": 7,
     "metadata": {},
     "output_type": "execute_result"
    }
   ],
   "source": [
    "ff_portfolio_data.describe()"
   ]
  },
  {
   "attachments": {},
   "cell_type": "markdown",
   "metadata": {},
   "source": [
    "### 股权数据"
   ]
  },
  {
   "cell_type": "code",
   "execution_count": 8,
   "metadata": {
    "ExecuteTime": {
     "end_time": "2021-04-15T19:55:20.200618Z",
     "start_time": "2021-04-15T19:55:14.520935Z"
    }
   },
   "outputs": [],
   "source": [
    "with pd.HDFStore('../data/assets.h5') as store:\n",
    "    prices = store['/quandl/wiki/prices'].adj_close.unstack().loc['2010':'2017']\n",
    "    equities = store['/us_equities/stocks'].drop_duplicates()"
   ]
  },
  {
   "cell_type": "code",
   "execution_count": 9,
   "metadata": {
    "ExecuteTime": {
     "end_time": "2021-04-15T19:55:20.245270Z",
     "start_time": "2021-04-15T19:55:20.201602Z"
    }
   },
   "outputs": [],
   "source": [
    "sectors = equities.filter(prices.columns, axis=0).sector.to_dict()\n",
    "prices = prices.filter(sectors.keys()).dropna(how='all', axis=1)"
   ]
  },
  {
   "cell_type": "code",
   "execution_count": 10,
   "metadata": {
    "ExecuteTime": {
     "end_time": "2021-04-15T19:55:20.330305Z",
     "start_time": "2021-04-15T19:55:20.246605Z"
    }
   },
   "outputs": [
    {
     "name": "stdout",
     "output_type": "stream",
     "text": [
      "<class 'pandas.core.frame.DataFrame'>\n",
      "PeriodIndex: 95 entries, 2010-02 to 2017-12\n",
      "Freq: M\n",
      "Columns: 1986 entries, A to ZUMZ\n",
      "dtypes: float64(1986)\n",
      "memory usage: 1.4 MB\n"
     ]
    }
   ],
   "source": [
    "returns = prices.resample('M').last().pct_change().mul(100).to_period('M')\n",
    "returns = returns.dropna(how='all').dropna(axis=1)\n",
    "returns.info()"
   ]
  },
  {
   "attachments": {},
   "cell_type": "markdown",
   "metadata": {},
   "source": [
    "### 对齐数据"
   ]
  },
  {
   "cell_type": "code",
   "execution_count": 11,
   "metadata": {
    "ExecuteTime": {
     "end_time": "2021-04-15T19:55:20.336370Z",
     "start_time": "2021-04-15T19:55:20.332866Z"
    }
   },
   "outputs": [],
   "source": [
    "ff_factor_data = ff_factor_data.loc[returns.index]\n",
    "ff_portfolio_data = ff_portfolio_data.loc[returns.index]"
   ]
  },
  {
   "cell_type": "code",
   "execution_count": 12,
   "metadata": {
    "ExecuteTime": {
     "end_time": "2021-04-15T19:55:20.370190Z",
     "start_time": "2021-04-15T19:55:20.338297Z"
    }
   },
   "outputs": [
    {
     "data": {
      "text/html": [
       "<div>\n",
       "<style scoped>\n",
       "    .dataframe tbody tr th:only-of-type {\n",
       "        vertical-align: middle;\n",
       "    }\n",
       "\n",
       "    .dataframe tbody tr th {\n",
       "        vertical-align: top;\n",
       "    }\n",
       "\n",
       "    .dataframe thead th {\n",
       "        text-align: right;\n",
       "    }\n",
       "</style>\n",
       "<table border=\"1\" class=\"dataframe\">\n",
       "  <thead>\n",
       "    <tr style=\"text-align: right;\">\n",
       "      <th></th>\n",
       "      <th>Mkt-RF</th>\n",
       "      <th>SMB</th>\n",
       "      <th>HML</th>\n",
       "      <th>RMW</th>\n",
       "      <th>CMA</th>\n",
       "      <th>RF</th>\n",
       "    </tr>\n",
       "  </thead>\n",
       "  <tbody>\n",
       "    <tr>\n",
       "      <th>count</th>\n",
       "      <td>95.000000</td>\n",
       "      <td>95.000000</td>\n",
       "      <td>95.000000</td>\n",
       "      <td>95.000000</td>\n",
       "      <td>95.000000</td>\n",
       "      <td>95.000000</td>\n",
       "    </tr>\n",
       "    <tr>\n",
       "      <th>mean</th>\n",
       "      <td>1.206000</td>\n",
       "      <td>0.056947</td>\n",
       "      <td>-0.054316</td>\n",
       "      <td>0.144737</td>\n",
       "      <td>0.043368</td>\n",
       "      <td>0.012737</td>\n",
       "    </tr>\n",
       "    <tr>\n",
       "      <th>std</th>\n",
       "      <td>3.568382</td>\n",
       "      <td>2.312400</td>\n",
       "      <td>2.214041</td>\n",
       "      <td>1.583725</td>\n",
       "      <td>1.419882</td>\n",
       "      <td>0.022665</td>\n",
       "    </tr>\n",
       "    <tr>\n",
       "      <th>min</th>\n",
       "      <td>-7.890000</td>\n",
       "      <td>-4.580000</td>\n",
       "      <td>-4.700000</td>\n",
       "      <td>-3.880000</td>\n",
       "      <td>-3.240000</td>\n",
       "      <td>0.000000</td>\n",
       "    </tr>\n",
       "    <tr>\n",
       "      <th>25%</th>\n",
       "      <td>-0.565000</td>\n",
       "      <td>-1.680000</td>\n",
       "      <td>-1.670000</td>\n",
       "      <td>-0.880000</td>\n",
       "      <td>-0.965000</td>\n",
       "      <td>0.000000</td>\n",
       "    </tr>\n",
       "    <tr>\n",
       "      <th>50%</th>\n",
       "      <td>1.290000</td>\n",
       "      <td>0.160000</td>\n",
       "      <td>-0.310000</td>\n",
       "      <td>0.270000</td>\n",
       "      <td>0.010000</td>\n",
       "      <td>0.000000</td>\n",
       "    </tr>\n",
       "    <tr>\n",
       "      <th>75%</th>\n",
       "      <td>3.265000</td>\n",
       "      <td>1.605000</td>\n",
       "      <td>1.220000</td>\n",
       "      <td>1.240000</td>\n",
       "      <td>0.940000</td>\n",
       "      <td>0.010000</td>\n",
       "    </tr>\n",
       "    <tr>\n",
       "      <th>max</th>\n",
       "      <td>11.350000</td>\n",
       "      <td>7.040000</td>\n",
       "      <td>8.190000</td>\n",
       "      <td>3.480000</td>\n",
       "      <td>3.690000</td>\n",
       "      <td>0.090000</td>\n",
       "    </tr>\n",
       "  </tbody>\n",
       "</table>\n",
       "</div>"
      ],
      "text/plain": [
       "          Mkt-RF        SMB        HML        RMW        CMA         RF\n",
       "count  95.000000  95.000000  95.000000  95.000000  95.000000  95.000000\n",
       "mean    1.206000   0.056947  -0.054316   0.144737   0.043368   0.012737\n",
       "std     3.568382   2.312400   2.214041   1.583725   1.419882   0.022665\n",
       "min    -7.890000  -4.580000  -4.700000  -3.880000  -3.240000   0.000000\n",
       "25%    -0.565000  -1.680000  -1.670000  -0.880000  -0.965000   0.000000\n",
       "50%     1.290000   0.160000  -0.310000   0.270000   0.010000   0.000000\n",
       "75%     3.265000   1.605000   1.220000   1.240000   0.940000   0.010000\n",
       "max    11.350000   7.040000   8.190000   3.480000   3.690000   0.090000"
      ]
     },
     "execution_count": 12,
     "metadata": {},
     "output_type": "execute_result"
    }
   ],
   "source": [
    "ff_factor_data.describe()"
   ]
  },
  {
   "attachments": {},
   "cell_type": "markdown",
   "metadata": {},
   "source": [
    "### 计算超额收益"
   ]
  },
  {
   "cell_type": "code",
   "execution_count": 13,
   "metadata": {
    "ExecuteTime": {
     "end_time": "2021-04-15T19:55:20.493870Z",
     "start_time": "2021-04-15T19:55:20.371460Z"
    }
   },
   "outputs": [
    {
     "name": "stdout",
     "output_type": "stream",
     "text": [
      "<class 'pandas.core.frame.DataFrame'>\n",
      "PeriodIndex: 95 entries, 2010-02 to 2017-12\n",
      "Freq: M\n",
      "Columns: 1986 entries, A to ZUMZ\n",
      "dtypes: float64(1986)\n",
      "memory usage: 1.4 MB\n"
     ]
    }
   ],
   "source": [
    "excess_returns = returns.sub(ff_factor_data.RF, axis=0)\n",
    "excess_returns.info()"
   ]
  },
  {
   "cell_type": "code",
   "execution_count": 14,
   "metadata": {
    "ExecuteTime": {
     "end_time": "2021-04-15T19:55:20.510527Z",
     "start_time": "2021-04-15T19:55:20.495111Z"
    }
   },
   "outputs": [],
   "source": [
    "excess_returns = excess_returns.clip(lower=np.percentile(excess_returns, 1),\n",
    "                                     upper=np.percentile(excess_returns, 99))"
   ]
  },
  {
   "attachments": {},
   "cell_type": "markdown",
   "metadata": {},
   "source": [
    "## 法玛-麦克白回归"
   ]
  },
  {
   "attachments": {},
   "cell_type": "markdown",
   "metadata": {},
   "source": [
    "通过给定有关风险因素和投资组合回报的数据用来估计投资组合的风险敞口是有用的，即风险因素对投资组合回报的影响有多大，以及给定因素的风险敞口的价值是多少，也就是说市场的风险敞口是多少。如果因子暴露已知或可以假设，则风险溢价允许估计任何投资组合的回报。\n"
   ]
  },
  {
   "cell_type": "code",
   "execution_count": 15,
   "metadata": {
    "ExecuteTime": {
     "end_time": "2021-04-15T19:55:20.520870Z",
     "start_time": "2021-04-15T19:55:20.511704Z"
    }
   },
   "outputs": [
    {
     "name": "stdout",
     "output_type": "stream",
     "text": [
      "<class 'pandas.core.frame.DataFrame'>\n",
      "PeriodIndex: 95 entries, 2010-02 to 2017-12\n",
      "Freq: M\n",
      "Data columns (total 17 columns):\n",
      " #   Column  Non-Null Count  Dtype  \n",
      "---  ------  --------------  -----  \n",
      " 0   Food    95 non-null     float64\n",
      " 1   Mines   95 non-null     float64\n",
      " 2   Oil     95 non-null     float64\n",
      " 3   Clths   95 non-null     float64\n",
      " 4   Durbl   95 non-null     float64\n",
      " 5   Chems   95 non-null     float64\n",
      " 6   Cnsum   95 non-null     float64\n",
      " 7   Cnstr   95 non-null     float64\n",
      " 8   Steel   95 non-null     float64\n",
      " 9   FabPr   95 non-null     float64\n",
      " 10  Machn   95 non-null     float64\n",
      " 11  Cars    95 non-null     float64\n",
      " 12  Trans   95 non-null     float64\n",
      " 13  Utils   95 non-null     float64\n",
      " 14  Rtail   95 non-null     float64\n",
      " 15  Finan   95 non-null     float64\n",
      " 16  Other   95 non-null     float64\n",
      "dtypes: float64(17)\n",
      "memory usage: 13.4 KB\n"
     ]
    }
   ],
   "source": [
    "ff_portfolio_data.info()"
   ]
  },
  {
   "cell_type": "code",
   "execution_count": 16,
   "metadata": {
    "ExecuteTime": {
     "end_time": "2021-04-15T19:55:20.538124Z",
     "start_time": "2021-04-15T19:55:20.521998Z"
    }
   },
   "outputs": [
    {
     "name": "stdout",
     "output_type": "stream",
     "text": [
      "<class 'pandas.core.frame.DataFrame'>\n",
      "PeriodIndex: 95 entries, 2010-02 to 2017-12\n",
      "Freq: M\n",
      "Data columns (total 5 columns):\n",
      " #   Column  Non-Null Count  Dtype  \n",
      "---  ------  --------------  -----  \n",
      " 0   Mkt-RF  95 non-null     float64\n",
      " 1   SMB     95 non-null     float64\n",
      " 2   HML     95 non-null     float64\n",
      " 3   RMW     95 non-null     float64\n",
      " 4   CMA     95 non-null     float64\n",
      "dtypes: float64(5)\n",
      "memory usage: 4.5 KB\n"
     ]
    }
   ],
   "source": [
    "ff_factor_data = ff_factor_data.drop('RF', axis=1)\n",
    "ff_factor_data.info()"
   ]
  },
  {
   "attachments": {},
   "cell_type": "markdown",
   "metadata": {},
   "source": [
    "为了解决残差相关性引起的推理问题，Fama 和 MacBeth 提出了因子回报横截面回归的两步方法。两阶段 Fama-Macbeth 回归旨在估计市场因暴露于特定风险因素而获得的溢价。这两个阶段包括：\n",
    "\n",
    "- 第一阶段：对因子的超额收益进行 N 个时间序列回归，每个资产或投资组合一个，以估计因子负载。\n",
    "\n",
    "- 第二阶段：T 横截面回归，每个时间段一个，以估计风险溢价。\n",
    "\n",
    "请参阅[机器学习交易](https://www.amazon.com/Hands-Machine-Learning-Algorithmic-Trading-ebook/dp/B07JLFH7C5/ref=sr_1_2?ie=UTF8&qid=1548455634&sr= 第 7 章中的相应部分8-2&关键字=机器+学习+算法+交易）了解详情。"
   ]
  },
  {
   "attachments": {},
   "cell_type": "markdown",
   "metadata": {},
   "source": [
    "现在，我们可以使用风险溢价估计随时间独立的假设，将因子风险溢价计算为时间平均值，并获取 t 统计量来评估其个体显着性。\n",
    "\n",
    "如果我们有一个非常大且具有代表性的交易风险因素数据样本，我们可以使用样本均值作为风险溢价估计。然而，我们通常没有足够长的历史记录，并且样本均值周围的误差幅度可能相当大。\n",
    "\n",
    "Fama-Macbeth 方法利用因子与其他资产的协方差来确定因子溢价。资产回报的第二时刻比第一时刻更容易估计，并且获得更精细的数据可以大大改善估计，而平均估计则不然。"
   ]
  },
  {
   "attachments": {},
   "cell_type": "markdown",
   "metadata": {},
   "source": [
    "### 步骤 1：因子暴露"
   ]
  },
  {
   "attachments": {},
   "cell_type": "markdown",
   "metadata": {},
   "source": [
    "我们可以实施第一阶段来获得 17 个因子载荷估计，如下所示："
   ]
  },
  {
   "cell_type": "code",
   "execution_count": 17,
   "metadata": {
    "ExecuteTime": {
     "end_time": "2021-04-15T19:55:20.643488Z",
     "start_time": "2021-04-15T19:55:20.539304Z"
    }
   },
   "outputs": [],
   "source": [
    "betas = []\n",
    "for industry in ff_portfolio_data:\n",
    "    step1 = OLS(endog=ff_portfolio_data.loc[ff_factor_data.index, industry], \n",
    "                exog=add_constant(ff_factor_data)).fit()\n",
    "    betas.append(step1.params.drop('const'))"
   ]
  },
  {
   "cell_type": "code",
   "execution_count": 18,
   "metadata": {
    "ExecuteTime": {
     "end_time": "2021-04-15T19:55:20.658189Z",
     "start_time": "2021-04-15T19:55:20.646568Z"
    }
   },
   "outputs": [
    {
     "name": "stdout",
     "output_type": "stream",
     "text": [
      "<class 'pandas.core.frame.DataFrame'>\n",
      "Index: 17 entries, Food  to Other\n",
      "Data columns (total 5 columns):\n",
      " #   Column  Non-Null Count  Dtype  \n",
      "---  ------  --------------  -----  \n",
      " 0   Mkt-RF  17 non-null     float64\n",
      " 1   SMB     17 non-null     float64\n",
      " 2   HML     17 non-null     float64\n",
      " 3   RMW     17 non-null     float64\n",
      " 4   CMA     17 non-null     float64\n",
      "dtypes: float64(5)\n",
      "memory usage: 1.3+ KB\n"
     ]
    }
   ],
   "source": [
    "betas = pd.DataFrame(betas, \n",
    "                     columns=ff_factor_data.columns, \n",
    "                     index=ff_portfolio_data.columns)\n",
    "betas.info()"
   ]
  },
  {
   "attachments": {},
   "cell_type": "markdown",
   "metadata": {},
   "source": [
    "### 步骤 2：风险溢价"
   ]
  },
  {
   "attachments": {},
   "cell_type": "markdown",
   "metadata": {},
   "source": [
    "对于第二阶段，我们对因子负载的投资组合横截面的期间回报进行 96 次回归"
   ]
  },
  {
   "cell_type": "code",
   "execution_count": 19,
   "metadata": {
    "ExecuteTime": {
     "end_time": "2021-04-15T19:55:20.759883Z",
     "start_time": "2021-04-15T19:55:20.659165Z"
    }
   },
   "outputs": [],
   "source": [
    "lambdas = []\n",
    "for period in ff_portfolio_data.index:\n",
    "    step2 = OLS(endog=ff_portfolio_data.loc[period, betas.index], \n",
    "                exog=betas).fit()\n",
    "    lambdas.append(step2.params)"
   ]
  },
  {
   "cell_type": "code",
   "execution_count": 20,
   "metadata": {
    "ExecuteTime": {
     "end_time": "2021-04-15T19:55:20.780931Z",
     "start_time": "2021-04-15T19:55:20.760976Z"
    }
   },
   "outputs": [
    {
     "name": "stdout",
     "output_type": "stream",
     "text": [
      "<class 'pandas.core.frame.DataFrame'>\n",
      "PeriodIndex: 95 entries, 2010-02 to 2017-12\n",
      "Freq: M\n",
      "Data columns (total 5 columns):\n",
      " #   Column  Non-Null Count  Dtype  \n",
      "---  ------  --------------  -----  \n",
      " 0   Mkt-RF  95 non-null     float64\n",
      " 1   SMB     95 non-null     float64\n",
      " 2   HML     95 non-null     float64\n",
      " 3   RMW     95 non-null     float64\n",
      " 4   CMA     95 non-null     float64\n",
      "dtypes: float64(5)\n",
      "memory usage: 9.3 KB\n"
     ]
    }
   ],
   "source": [
    "lambdas = pd.DataFrame(lambdas, \n",
    "                       index=ff_portfolio_data.index,\n",
    "                       columns=betas.columns.tolist())\n",
    "lambdas.info()"
   ]
  },
  {
   "cell_type": "code",
   "execution_count": 21,
   "metadata": {
    "ExecuteTime": {
     "end_time": "2021-04-15T19:55:20.902217Z",
     "start_time": "2021-04-15T19:55:20.781976Z"
    }
   },
   "outputs": [
    {
     "data": {
      "image/png": "[encoded data removed]",
      "text/plain": [
       "<Figure size 864x288 with 1 Axes>"
      ]
     },
     "metadata": {},
     "output_type": "display_data"
    }
   ],
   "source": [
    "lambdas.mean().sort_values().plot.barh(figsize=(12, 4))\n",
    "sns.despine()\n",
    "plt.tight_layout();"
   ]
  },
  {
   "cell_type": "code",
   "execution_count": 22,
   "metadata": {
    "ExecuteTime": {
     "end_time": "2021-04-15T19:55:20.908357Z",
     "start_time": "2021-04-15T19:55:20.903193Z"
    }
   },
   "outputs": [
    {
     "data": {
      "text/plain": [
       "Mkt-RF    0.344320\n",
       "SMB       0.005152\n",
       "HML      -0.269338\n",
       "RMW      -0.090974\n",
       "CMA      -0.145308\n",
       "dtype: float64"
      ]
     },
     "execution_count": 22,
     "metadata": {},
     "output_type": "execute_result"
    }
   ],
   "source": [
    "t = lambdas.mean().div(lambdas.std())\n",
    "t"
   ]
  },
  {
   "attachments": {},
   "cell_type": "markdown",
   "metadata": {},
   "source": [
    "#### 结果"
   ]
  },
  {
   "cell_type": "code",
   "execution_count": 23,
   "metadata": {
    "ExecuteTime": {
     "end_time": "2021-04-15T19:55:21.278124Z",
     "start_time": "2021-04-15T19:55:20.909336Z"
    },
    "scrolled": false
   },
   "outputs": [
    {
     "data": {
      "image/png": "[encoded data removed]",
      "text/plain": [
       "<Figure size 1008x360 with 2 Axes>"
      ]
     },
     "metadata": {},
     "output_type": "display_data"
    }
   ],
   "source": [
    "window = 24  # months\n",
    "ax1 = plt.subplot2grid((1, 3), (0, 0))\n",
    "ax2 = plt.subplot2grid((1, 3), (0, 1), colspan=2)\n",
    "lambdas.mean().sort_values().plot.barh(ax=ax1)\n",
    "lambdas.rolling(window).mean().dropna().plot(lw=1,\n",
    "                                             figsize=(14, 5),\n",
    "                                             sharey=True,\n",
    "                                             ax=ax2)\n",
    "sns.despine()\n",
    "plt.tight_layout()"
   ]
  },
  {
   "cell_type": "code",
   "execution_count": 24,
   "metadata": {
    "ExecuteTime": {
     "end_time": "2021-04-15T19:55:21.839217Z",
     "start_time": "2021-04-15T19:55:21.279210Z"
    }
   },
   "outputs": [
    {
     "data": {
      "image/png": "[encoded data removed]",
      "text/plain": [
       "<Figure size 1008x504 with 5 Axes>"
      ]
     },
     "metadata": {},
     "output_type": "display_data"
    }
   ],
   "source": [
    "window = 24  # months\n",
    "lambdas.rolling(window).mean().dropna().plot(lw=2,\n",
    "                                             figsize=(14, 7),\n",
    "                                             subplots=True,\n",
    "                                             sharey=True)\n",
    "sns.despine()\n",
    "plt.tight_layout()"
   ]
  },
  {
   "attachments": {},
   "cell_type": "markdown",
   "metadata": {},
   "source": [
    "## Fama-Macbeth 与 LinearModels 库"
   ]
  },
  {
   "attachments": {},
   "cell_type": "markdown",
   "metadata": {},
   "source": [
    "Linear_models 库使用面板数据的各种模型扩展了 statsmodels，并且还实现了两阶段 Fama-MacBeth 过程："
   ]
  },
  {
   "cell_type": "code",
   "execution_count": 25,
   "metadata": {
    "ExecuteTime": {
     "end_time": "2021-04-15T19:55:21.859424Z",
     "start_time": "2021-04-15T19:55:21.840019Z"
    }
   },
   "outputs": [
    {
     "name": "stdout",
     "output_type": "stream",
     "text": [
      "                      LinearFactorModel Estimation Summary                      \n",
      "================================================================================\n",
      "No. Test Portfolios:                 17   R-squared:                      0.6879\n",
      "No. Factors:                          5   J-statistic:                    15.622\n",
      "No. Observations:                    95   P-value                         0.2091\n",
      "Date:                  Tue, Jul 11 2023   Distribution:                 chi2(12)\n",
      "Time:                          20:17:05                                         \n",
      "Cov. Estimator:                  robust                                         \n",
      "                                                                                \n",
      "                            Risk Premia Estimates                             \n",
      "==============================================================================\n",
      "            Parameter  Std. Err.     T-stat    P-value    Lower CI    Upper CI\n",
      "------------------------------------------------------------------------------\n",
      "Mkt-RF         1.2357     0.4097     3.0158     0.0026      0.4326      2.0388\n",
      "SMB            0.0202     0.8688     0.0232     0.9815     -1.6828      1.7231\n",
      "HML           -1.1132     0.6218    -1.7905     0.0734     -2.3319      0.1054\n",
      "RMW           -0.2756     0.8131    -0.3389     0.7347     -1.8693      1.3182\n",
      "CMA           -0.5094     0.5661    -0.8998     0.3683     -1.6189      0.6002\n",
      "==============================================================================\n",
      "\n",
      "Covariance estimator:\n",
      "HeteroskedasticCovariance\n",
      "See full_summary for complete results\n"
     ]
    }
   ],
   "source": [
    "mod = LinearFactorModel(portfolios=ff_portfolio_data, \n",
    "                        factors=ff_factor_data)\n",
    "res = mod.fit()\n",
    "print(res)"
   ]
  },
  {
   "cell_type": "code",
   "execution_count": 26,
   "metadata": {
    "ExecuteTime": {
     "end_time": "2021-04-15T19:55:21.921756Z",
     "start_time": "2021-04-15T19:55:21.861590Z"
    },
    "scrolled": false
   },
   "outputs": [
    {
     "name": "stdout",
     "output_type": "stream",
     "text": [
      "                      LinearFactorModel Estimation Summary                      \n",
      "================================================================================\n",
      "No. Test Portfolios:                 17   R-squared:                      0.6879\n",
      "No. Factors:                          5   J-statistic:                    15.622\n",
      "No. Observations:                    95   P-value                         0.2091\n",
      "Date:                  Tue, Jul 11 2023   Distribution:                 chi2(12)\n",
      "Time:                          20:17:05                                         \n",
      "Cov. Estimator:                  robust                                         \n",
      "                                                                                \n",
      "                            Risk Premia Estimates                             \n",
      "==============================================================================\n",
      "            Parameter  Std. Err.     T-stat    P-value    Lower CI    Upper CI\n",
      "------------------------------------------------------------------------------\n",
      "Mkt-RF         1.2357     0.4097     3.0158     0.0026      0.4326      2.0388\n",
      "SMB            0.0202     0.8688     0.0232     0.9815     -1.6828      1.7231\n",
      "HML           -1.1132     0.6218    -1.7905     0.0734     -2.3319      0.1054\n",
      "RMW           -0.2756     0.8131    -0.3389     0.7347     -1.8693      1.3182\n",
      "CMA           -0.5094     0.5661    -0.8998     0.3683     -1.6189      0.6002\n",
      "\n",
      "\n",
      "                              Food  Coefficients                              \n",
      "==============================================================================\n",
      "            Parameter  Std. Err.     T-stat    P-value    Lower CI    Upper CI\n",
      "------------------------------------------------------------------------------\n",
      "alpha          0.1755     0.2533     0.6927     0.4885     -0.3210      0.6720\n",
      "Mkt-RF         0.6852     0.0470     14.588     0.0000      0.5931      0.7773\n",
      "SMB           -0.3091     0.1155    -2.6764     0.0074     -0.5354     -0.0827\n",
      "HML           -0.3563     0.1384    -2.5750     0.0100     -0.6275     -0.0851\n",
      "RMW            0.3074     0.1273     2.4151     0.0157      0.0579      0.5569\n",
      "CMA            0.4877     0.1596     3.0552     0.0022      0.1748      0.8006\n",
      "\n",
      "\n",
      "                              Mines Coefficients                              \n",
      "==============================================================================\n",
      "alpha         -0.6975     0.5313    -1.3126     0.1893     -1.7389      0.3440\n",
      "Mkt-RF         1.3083     0.1957     6.6846     0.0000      0.9247      1.6920\n",
      "SMB            0.1834     0.3368     0.5445     0.5861     -0.4767      0.8435\n",
      "HML            0.2224     0.3311     0.6717     0.5018     -0.4265      0.8713\n",
      "RMW            0.2215     0.4367     0.5072     0.6120     -0.6344      1.0775\n",
      "CMA            0.5372     0.5502     0.9763     0.3289     -0.5412      1.6156\n",
      "\n",
      "\n",
      "                              Oil   Coefficients                              \n",
      "==============================================================================\n",
      "alpha          0.2557     0.3490     0.7327     0.4637     -0.4284      0.9398\n",
      "Mkt-RF         1.0343     0.1007     10.266     0.0000      0.8368      1.2317\n",
      "SMB            0.1703     0.1894     0.8993     0.3685     -0.2009      0.5416\n",
      "HML            0.6477     0.2038     3.1775     0.0015      0.2482      1.0473\n",
      "RMW            0.0033     0.2308     0.0144     0.9885     -0.4490      0.4556\n",
      "CMA            0.3159     0.2813     1.1228     0.2615     -0.2355      0.8673\n",
      "\n",
      "\n",
      "                              Clths Coefficients                              \n",
      "==============================================================================\n",
      "alpha          0.2411     0.3471     0.6946     0.4873     -0.4393      0.9215\n",
      "Mkt-RF         0.9663     0.1213     7.9686     0.0000      0.7286      1.2040\n",
      "SMB            0.3610     0.1991     1.8130     0.0698     -0.0293      0.7513\n",
      "HML           -0.1435     0.2122    -0.6764     0.4988     -0.5594      0.2724\n",
      "RMW            0.6210     0.2716     2.2862     0.0222      0.0886      1.1533\n",
      "CMA           -0.0313     0.3144    -0.0994     0.9208     -0.6474      0.5849\n",
      "\n",
      "\n",
      "                              Durbl Coefficients                              \n",
      "==============================================================================\n",
      "alpha         -0.0999     0.3215    -0.3108     0.7560     -0.7301      0.5303\n",
      "Mkt-RF         1.1783     0.0844     13.960     0.0000      1.0129      1.3437\n",
      "SMB            0.5306     0.1243     4.2697     0.0000      0.2870      0.7741\n",
      "HML            0.0675     0.1490     0.4533     0.6504     -0.2245      0.3596\n",
      "RMW            0.5454     0.1993     2.7371     0.0062      0.1549      0.9360\n",
      "CMA           -0.1163     0.2680    -0.4340     0.6643     -0.6415      0.4089\n",
      "\n",
      "\n",
      "                              Chems Coefficients                              \n",
      "==============================================================================\n",
      "alpha         -0.1740     0.3347    -0.5198     0.6032     -0.8301      0.4821\n",
      "Mkt-RF         1.3519     0.1065     12.691     0.0000      1.1431      1.5607\n",
      "SMB            0.1795     0.1479     1.2140     0.2247     -0.1103      0.4693\n",
      "HML            0.1897     0.1470     1.2908     0.1968     -0.0984      0.4778\n",
      "RMW            0.1676     0.1927     0.8699     0.3843     -0.2101      0.5453\n",
      "CMA           -0.2408     0.2577    -0.9341     0.3502     -0.7459      0.2644\n",
      "\n",
      "\n",
      "                              Cnsum Coefficients                              \n",
      "==============================================================================\n",
      "alpha         -0.0647     0.3723    -0.1737     0.8621     -0.7944      0.6651\n",
      "Mkt-RF         0.7603     0.0579     13.137     0.0000      0.6468      0.8737\n",
      "SMB           -0.3409     0.1004    -3.3964     0.0007     -0.5376     -0.1442\n",
      "HML           -0.5545     0.1191    -4.6569     0.0000     -0.7879     -0.3211\n",
      "RMW           -0.0556     0.1339    -0.4148     0.6783     -0.3180      0.2069\n",
      "CMA            0.5819     0.2167     2.6849     0.0073      0.1571      1.0067\n",
      "\n",
      "\n",
      "                              Cnstr Coefficients                              \n",
      "==============================================================================\n",
      "alpha          0.5788     0.4336     1.3349     0.1819     -0.2710      1.4286\n",
      "Mkt-RF         1.1147     0.0828     13.468     0.0000      0.9525      1.2769\n",
      "SMB            0.4288     0.1349     3.1797     0.0015      0.1645      0.6932\n",
      "HML            0.0903     0.1901     0.4751     0.6347     -0.2823      0.4630\n",
      "RMW           -0.0171     0.2229    -0.0768     0.9388     -0.4539      0.4197\n",
      "CMA            0.1666     0.2404     0.6932     0.4882     -0.3045      0.6377\n",
      "\n",
      "\n",
      "                              Steel Coefficients                              \n",
      "==============================================================================\n",
      "alpha         -0.3884     0.4220    -0.9205     0.3573     -1.2155      0.4386\n",
      "Mkt-RF         1.4689     0.1380     10.644     0.0000      1.1984      1.7394\n",
      "SMB            0.4216     0.2551     1.6529     0.0983     -0.0783      0.9215\n",
      "HML            0.4192     0.2618     1.6011     0.1094     -0.0940      0.9324\n",
      "RMW            0.1969     0.3371     0.5841     0.5591     -0.4638      0.8576\n",
      "CMA            0.4391     0.4159     1.0560     0.2910     -0.3759      1.2542\n",
      "\n",
      "\n",
      "                              FabPr Coefficients                              \n",
      "==============================================================================\n",
      "alpha          0.1708     0.3047     0.5607     0.5750     -0.4263      0.7679\n",
      "Mkt-RF         1.0680     0.0735     14.523     0.0000      0.9239      1.2121\n",
      "SMB            0.4642     0.0982     4.7284     0.0000      0.2718      0.6567\n",
      "HML           -0.0379     0.1121    -0.3383     0.7351     -0.2577      0.1818\n",
      "RMW            0.1639     0.1445     1.1347     0.2565     -0.1192      0.4470\n",
      "CMA            0.1980     0.1893     1.0459     0.2956     -0.1731      0.5692\n",
      "\n",
      "\n",
      "                              Machn Coefficients                              \n",
      "==============================================================================\n",
      "alpha         -0.2975     0.2807    -1.0600     0.2891     -0.8476      0.2526\n",
      "Mkt-RF         1.1883     0.0580     20.502     0.0000      1.0747      1.3020\n",
      "SMB            0.1775     0.1057     1.6783     0.0933     -0.0298      0.3847\n",
      "HML            0.0356     0.1045     0.3408     0.7332     -0.1692      0.2404\n",
      "RMW            0.0586     0.1595     0.3673     0.7134     -0.2540      0.3712\n",
      "CMA           -0.3710     0.1744    -2.1272     0.0334     -0.7129     -0.0292\n",
      "\n",
      "\n",
      "                              Cars  Coefficients                              \n",
      "==============================================================================\n",
      "alpha         -0.1440     0.4019    -0.3583     0.7201     -0.9317      0.6437\n",
      "Mkt-RF         1.1902     0.0997     11.936     0.0000      0.9948      1.3857\n",
      "SMB            0.5988     0.1320     4.5352     0.0000      0.3400      0.8576\n",
      "HML            0.0313     0.1742     0.1796     0.8575     -0.3101      0.3726\n",
      "RMW            0.0528     0.2195     0.2407     0.8098     -0.3773      0.4830\n",
      "CMA           -0.0100     0.3037    -0.0329     0.9737     -0.6053      0.5853\n",
      "\n",
      "\n",
      "                              Trans Coefficients                              \n",
      "==============================================================================\n",
      "alpha          0.4935     0.3259     1.5140     0.1300     -0.1453      1.1323\n",
      "Mkt-RF         1.0202     0.0500     20.421     0.0000      0.9223      1.1181\n",
      "SMB            0.2613     0.1043     2.5049     0.0122      0.0568      0.4658\n",
      "HML            0.0036     0.1217     0.0297     0.9763     -0.2349      0.2421\n",
      "RMW            0.3908     0.1607     2.4321     0.0150      0.0759      0.7057\n",
      "CMA            0.2873     0.2003     1.4340     0.1516     -0.1054      0.6800\n",
      "\n",
      "\n",
      "                              Utils Coefficients                              \n",
      "==============================================================================\n",
      "alpha          0.3539     0.3066     1.1542     0.2484     -0.2470      0.9548\n",
      "Mkt-RF         0.5009     0.0904     5.5412     0.0000      0.3237      0.6781\n",
      "SMB           -0.2570     0.1556    -1.6512     0.0987     -0.5620      0.0481\n",
      "HML           -0.2940     0.1777    -1.6542     0.0981     -0.6423      0.0543\n",
      "RMW            0.2278     0.1933     1.1783     0.2387     -0.1511      0.6066\n",
      "CMA            0.5477     0.2981     1.8376     0.0661     -0.0365      1.1319\n",
      "\n",
      "\n",
      "                              Rtail Coefficients                              \n",
      "==============================================================================\n",
      "alpha          0.0190     0.2715     0.0699     0.9443     -0.5131      0.5510\n",
      "Mkt-RF         0.9033     0.0697     12.954     0.0000      0.7666      1.0399\n",
      "SMB            0.1344     0.0998     1.3472     0.1779     -0.0611      0.3299\n",
      "HML           -0.3724     0.1317    -2.8279     0.0047     -0.6306     -0.1143\n",
      "RMW            0.6896     0.1623     4.2492     0.0000      0.3715      1.0077\n",
      "CMA            0.1998     0.1755     1.1383     0.2550     -0.1442      0.5439\n",
      "\n",
      "\n",
      "                              Finan Coefficients                              \n",
      "==============================================================================\n",
      "alpha          0.4061     0.3806     1.0671     0.2859     -0.3398      1.1521\n",
      "Mkt-RF         1.0562     0.0429     24.626     0.0000      0.9721      1.1402\n",
      "SMB            0.0739     0.0893     0.8276     0.4079     -0.1011      0.2489\n",
      "HML            0.7437     0.0901     8.2589     0.0000      0.5672      0.9202\n",
      "RMW           -0.4517     0.1092    -4.1359     0.0000     -0.6657     -0.2376\n",
      "CMA           -0.5180     0.1157    -4.4787     0.0000     -0.7447     -0.2913\n",
      "\n",
      "\n",
      "                              Other Coefficients                              \n",
      "==============================================================================\n",
      "alpha         -0.1559     0.2308    -0.6754     0.4994     -0.6082      0.2964\n",
      "Mkt-RF         1.0389     0.0245     42.353     0.0000      0.9909      1.0870\n",
      "SMB           -0.1183     0.0399    -2.9608     0.0031     -0.1966     -0.0400\n",
      "HML           -0.1918     0.0379    -5.0616     0.0000     -0.2660     -0.1175\n",
      "RMW           -0.0667     0.0630    -1.0573     0.2904     -0.1902      0.0569\n",
      "CMA            0.0038     0.0652     0.0586     0.9533     -0.1241      0.1317\n",
      "==============================================================================\n",
      "\n",
      "Covariance estimator:\n",
      "HeteroskedasticCovariance\n",
      "See full_summary for complete results\n"
     ]
    }
   ],
   "source": [
    "print(res.full_summary)"
   ]
  },
  {
   "attachments": {},
   "cell_type": "markdown",
   "metadata": {},
   "source": [
    "这为我们提供了相同的结果："
   ]
  },
  {
   "cell_type": "code",
   "execution_count": 27,
   "metadata": {
    "ExecuteTime": {
     "end_time": "2021-04-15T19:55:21.926652Z",
     "start_time": "2021-04-15T19:55:21.922840Z"
    }
   },
   "outputs": [
    {
     "data": {
      "text/plain": [
       "Mkt-RF    1.235686\n",
       "SMB       0.020156\n",
       "HML      -1.113237\n",
       "RMW      -0.275555\n",
       "CMA      -0.509358\n",
       "dtype: float64"
      ]
     },
     "execution_count": 27,
     "metadata": {},
     "output_type": "execute_result"
    }
   ],
   "source": [
    "lambdas.mean()"
   ]
  }
 ],
 "metadata": {
  "kernelspec": {
   "display_name": "Python 3",
   "language": "python",
   "name": "python3"
  },
  "language_info": {
   "codemirror_mode": {
    "name": "ipython",
    "version": 3
   },
   "file_extension": ".py",
   "mimetype": "text/x-python",
   "name": "python",
   "nbconvert_exporter": "python",
   "pygments_lexer": "ipython3",
   "version": "3.8.13"
  },
  "toc": {
   "base_numbering": 1,
   "nav_menu": {},
   "number_sections": true,
   "sideBar": true,
   "skip_h1_title": true,
   "title_cell": "Table of Contents",
   "title_sidebar": "Contents",
   "toc_cell": false,
   "toc_position": {},
   "toc_section_display": true,
   "toc_window_display": true
  }
 },
 "nbformat": 4,
 "nbformat_minor": 2
}
